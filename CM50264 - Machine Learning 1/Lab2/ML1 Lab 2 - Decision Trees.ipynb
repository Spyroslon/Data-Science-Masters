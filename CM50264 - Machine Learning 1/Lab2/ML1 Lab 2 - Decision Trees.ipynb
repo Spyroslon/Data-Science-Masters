{
 "cells": [
  {
   "cell_type": "markdown",
   "metadata": {},
   "source": [
    "# Lab 2 -  Decision Trees\n",
    "The following notebook takes you through implementing the decision tree algorithm. It involves data manipulation/visualisation, hyperparameter selection, recursion, and building a prediction model. We will use a binary classification problem: Breast cancer diagnosis."
   ]
  },
  {
   "cell_type": "markdown",
   "metadata": {},
   "source": [
    "## Marking and Submission\n",
    "\n",
    "This lab exercise is marked, and contributes $6\\%$ to your final grade. For this lab exercise there are 6 questions for which you are expected to enter your own code, for 15 marks overall. Every place you have to add code is indicated by\n",
    "\n",
    "`# **************************************************************** n marks`\n",
    "\n",
    "with instructions above the code block.\n",
    "\n",
    "Please submit your completed workbook on [https://you.cs.bath.ac.uk] before Friday 23rd October at 20:00 GMT. The workbook you submit must be an `.ipynb` file, which is saved into the directory you're running Jupyter; alternatively you can download it from the menu above using `File -> Download As -> Notebook (.ipynb)`. Remember to save your work regularly (Save and checkpoint in the File menu, the icon of a floppy disk, or Ctrl-S); the version you submit should have all code blocks showing the results (if any) of execution below them. The auto markerr will provide feedback and you can submit as many times as you want. You do not need to include the dataset when submitting."
   ]
  },
  {
   "cell_type": "code",
   "execution_count": 1,
   "metadata": {},
   "outputs": [],
   "source": [
    "%matplotlib inline\n",
    "import numpy as np\n",
    "\n",
    "from sklearn import datasets as ds\n",
    "from sklearn.decomposition import PCA\n",
    "from sklearn import preprocessing\n",
    "\n",
    "import matplotlib.pyplot as plt"
   ]
  },
  {
   "cell_type": "markdown",
   "metadata": {},
   "source": [
    "## Import data\n",
    "The first step of any machine learning problem is to load the data. In this tutorial you don't have to download any dataset since we are using a built-in dataset provided by the scikit learn package."
   ]
  },
  {
   "cell_type": "code",
   "execution_count": 2,
   "metadata": {},
   "outputs": [],
   "source": [
    "data_all = ds.load_breast_cancer()\n",
    "\n",
    "x = data_all.data\n",
    "y = data_all.target\n",
    "\n",
    "y_names = data_all.target_names \n",
    "\n",
    "feature_names = data_all.feature_names"
   ]
  },
  {
   "cell_type": "markdown",
   "metadata": {},
   "source": [
    "## Breast Cancer Wisconsin (Diagnostic) Database\n",
    "A description of the dataset used is provided here.\n",
    "\n",
    "Data Set Characteristics:\n",
    "    :Number of Instances: 569\n",
    "\n",
    "    :Number of Attributes: 30 numeric, predictive attributes and the class\n",
    "\n",
    "    :Attribute Information:\n",
    "        - radius (mean of distances from center to points on the perimeter)\n",
    "        - texture (standard deviation of gray-scale values)\n",
    "        - perimeter\n",
    "        - area\n",
    "        - smoothness (local variation in radius lengths)\n",
    "        - compactness (perimeter^2 / area - 1.0)\n",
    "        - concavity (severity of concave portions of the contour)\n",
    "        - concave points (number of concave portions of the contour)\n",
    "        - symmetry \n",
    "        - fractal dimension (\"coastline approximation\" - 1)\n",
    "\n",
    "        The mean, standard error, and \"worst\" or largest (mean of the three\n",
    "        largest values) of these features were computed for each image,\n",
    "        resulting in 30 features.  For instance, field 3 is Mean Radius, field\n",
    "        13 is Radius SE, field 23 is Worst Radius.\n",
    "\n",
    "        - target class:\n",
    "                - WDBC-Malignant\n",
    "                - WDBC-Benign\n",
    "\n",
    "    :Summary Statistics:\n",
    "\n",
    "    ===================================== ====== ======\n",
    "                                           Min    Max\n",
    "    ===================================== ====== ======\n",
    "    radius (mean):                        6.981  28.11\n",
    "    texture (mean):                       9.71   39.28\n",
    "    perimeter (mean):                     43.79  188.5\n",
    "    area (mean):                          143.5  2501.0\n",
    "    smoothness (mean):                    0.053  0.163\n",
    "    compactness (mean):                   0.019  0.345\n",
    "    concavity (mean):                     0.0    0.427\n",
    "    concave points (mean):                0.0    0.201\n",
    "    symmetry (mean):                      0.106  0.304\n",
    "    fractal dimension (mean):             0.05   0.097\n",
    "    radius (standard error):              0.112  2.873\n",
    "    texture (standard error):             0.36   4.885\n",
    "    perimeter (standard error):           0.757  21.98\n",
    "    area (standard error):                6.802  542.2\n",
    "    smoothness (standard error):          0.002  0.031\n",
    "    compactness (standard error):         0.002  0.135\n",
    "    concavity (standard error):           0.0    0.396\n",
    "    concave points (standard error):      0.0    0.053\n",
    "    symmetry (standard error):            0.008  0.079\n",
    "    fractal dimension (standard error):   0.001  0.03\n",
    "    radius (worst):                       7.93   36.04\n",
    "    texture (worst):                      12.02  49.54\n",
    "    perimeter (worst):                    50.41  251.2\n",
    "    area (worst):                         185.2  4254.0\n",
    "    smoothness (worst):                   0.071  0.223\n",
    "    compactness (worst):                  0.027  1.058\n",
    "    concavity (worst):                    0.0    1.252\n",
    "    concave points (worst):               0.0    0.291\n",
    "    symmetry (worst):                     0.156  0.664\n",
    "    fractal dimension (worst):            0.055  0.208\n",
    "    ===================================== ====== ======\n",
    "\n",
    "    :Missing Attribute Values: None\n",
    "\n",
    "    :Class Distribution: 212 - Malignant, 357 - Benign\n",
    "\n",
    "    :Creator:  Dr. William H. Wolberg, W. Nick Street, Olvi L. Mangasarian\n",
    "\n",
    "    :Donor: Nick Street\n",
    "\n",
    "    :Date: November, 1995\n",
    "\n",
    "This is a copy of the UCI ML Breast Cancer Wisconsin (Diagnostic) dataset from https://goo.gl/U2Uwz2\n",
    "\n",
    "Features are computed from a digitized image of a fine needle\n",
    "aspirate (FNA) of a breast mass. They describe\n",
    "characteristics of the cell nuclei present in the image.\n",
    "\n",
    "Separating plane described above was obtained using\n",
    "Multisurface Method-Tree (MSM-T) [K. P. Bennett, \"Decision Tree\n",
    "Construction Via Linear Programming.\" Proceedings of the 4th\n",
    "Midwest Artificial Intelligence and Cognitive Science Society,\n",
    "pp. 97-101, 1992], a classification method which uses linear\n",
    "programming to construct a decision tree.  Relevant features\n",
    "were selected using an exhaustive search in the space of 1-4\n",
    "features and 1-3 separating planes.\n",
    "\n",
    "The actual linear program used to obtain the separating plane\n",
    "in the 3-dimensional space is that described in:\n",
    "[K. P. Bennett and O. L. Mangasarian: \"Robust Linear\n",
    "Programming Discrimination of Two Linearly Inseparable Sets\",\n",
    "Optimization Methods and Software 1, 1992, 23-34].\n",
    "\n",
    "This database is also available through the UW CS ftp server:\n",
    "\n",
    "```\n",
    "ftp ftp.cs.wisc.edu\n",
    "cd math-prog/cpo-dataset/machine-learn/WDBC/\n",
    "```\n",
    "\n",
    "### References\n",
    "   - W.N. Street, W.H. Wolberg and O.L. Mangasarian. Nuclear feature extraction \n",
    "     for breast tumor diagnosis. IS&T/SPIE 1993 International Symposium on \n",
    "     Electronic Imaging: Science and Technology, volume 1905, pages 861-870,\n",
    "     San Jose, CA, 1993.\n",
    "   - O.L. Mangasarian, W.N. Street and W.H. Wolberg. Breast cancer diagnosis and \n",
    "     prognosis via linear programming. Operations Research, 43(4), pages 570-577, \n",
    "     July-August 1995.\n",
    "   - W.H. Wolberg, W.N. Street, and O.L. Mangasarian. Machine learning techniques\n",
    "     to diagnose breast cancer from fine-needle aspirates. Cancer Letters 77 (1994) \n",
    "     163-171.\n"
   ]
  },
  {
   "cell_type": "markdown",
   "metadata": {
    "collapsed": true
   },
   "source": [
    "## Prepare/Split data\n",
    "We provide the data preparation part. The bellow code block splits the data and the targets into training and test sets; 60% for training, 40% for test. This repartition is of course arbitrary, different percentages could have been chosen."
   ]
  },
  {
   "cell_type": "code",
   "execution_count": 3,
   "metadata": {},
   "outputs": [
    {
     "name": "stdout",
     "output_type": "stream",
     "text": [
      "(569, 30)\n"
     ]
    }
   ],
   "source": [
    "print(x.shape)"
   ]
  },
  {
   "cell_type": "code",
   "execution_count": 4,
   "metadata": {},
   "outputs": [
    {
     "name": "stdout",
     "output_type": "stream",
     "text": [
      "Training set size: 341\n",
      "Test set size: 228\n"
     ]
    }
   ],
   "source": [
    "split = int(x.shape[0] * 0.6)\n",
    "\n",
    "x_train = x[:split,:]\n",
    "y_train = y[:split]\n",
    "\n",
    "x_test = x[split:,:]\n",
    "y_test = y[split:]\n",
    "\n",
    "print('Training set size:', x_train.shape[0])\n",
    "print('Test set size:', x_test.shape[0])"
   ]
  },
  {
   "cell_type": "markdown",
   "metadata": {},
   "source": [
    "## Data visualisation\n",
    "\n",
    "Since our data has a feature dimensionality of 30, it is difficult for us to visualise it. We visualize data by using a dimensionality reduction technique called Principal Component Analysis (PCA). \n",
    "\n",
    "Given an array in `R^None` (a matrix of size `n X d` with real entries) with `n` and `d` being the number of data points and the feature dimensionality, respectively, PCA will output an array in `R^None`, with `m<d`. \n",
    "\n",
    "PCA will be covered in future lectures. But for now, you can consider it as a way to reduce the dimensionality of our feature space. \n",
    "\n",
    "In order to be able to visualise the data on a 2D plot, we choose `m=2` (`m=3` is also a possibility)."
   ]
  },
  {
   "cell_type": "markdown",
   "metadata": {},
   "source": [
    "## 1. Looking at Data\n",
    "\n",
    "Complete the code block below to plot the reduced data obtained using PCA (`x_reduced` contains the result of applying PCA). Use different colours and markers to distinguish between positive and negative samples.\n",
    "\n",
    "It is interesting to see how the results havea  different visualisation without the scaling part. \n",
    "\n",
    "The results should look similar to the plot below (please note that this is a plot of another dataset):\n",
    "\n",
    "<img src=\"pca_example_graph.png\">\n",
    "\n",
    "Hint: You will need to google the documentation for the `scatter()` and `legend()` methods of `matplotlib`.\n",
    "\n",
    "__(1 mark)__"
   ]
  },
  {
   "cell_type": "code",
   "execution_count": 5,
   "metadata": {},
   "outputs": [
    {
     "data": {
      "image/png": "[encoded data removed]",
      "text/plain": [
       "<Figure size 432x288 with 1 Axes>"
      ]
     },
     "metadata": {
      "needs_background": "light"
     },
     "output_type": "display_data"
    }
   ],
   "source": [
    "pca = PCA(n_components=2)\n",
    "x_scaled = preprocessing.scale(x[:,:-1]) # We remove the indexing and make sure all the features are in N(0,1)\n",
    "x_reduced = pca.fit_transform(x_scaled)\n",
    "# x_reduced = pca.fit_transform(x[:,0:-1]) # Uncomment this to see the result without scaling\n",
    "\n",
    "# **************************************************************** 1 mark\n",
    "# x is everyone (569,30)\n",
    "# y is label results that (569,)\n",
    "# 0 = malignant, 1 = benign\n",
    "# x_reduced[y==1] chooses the 357 benign ones\n",
    "# x_reduced[y==0] chooses the 212 malignant ones\n",
    "\n",
    "# Reference: \n",
    "# https://stackoverflow.com/questions/4455076/how-to-access-the-ith-column-of-a-numpy-multidimensional-array\n",
    "# For accessing the all of the x and y values\n",
    "\n",
    "plt.scatter(x_reduced[y==0][:,0], x_reduced[y==0][:,1], label='Positive', c='tab:orange', marker='*')\n",
    "plt.scatter(x_reduced[y==1][:,0], x_reduced[y==1][:,1], label='Negative', c='tab:blue', marker='+')\n",
    "plt.legend(loc=1)\n",
    "plt.show()"
   ]
  },
  {
   "cell_type": "markdown",
   "metadata": {},
   "source": [
    "## 2. Calculating Entropy\n",
    "\n",
    "Complete the function `calculate_entropy(y)` in the code block bellow. The input is a column vector of target class values, and the output is its entropy (as described in the decision tree lecture).\n",
    "\n",
    "`y` is a length `n` vector where `n` is the number of data points. It contains the class/category of each data point as an integer, i.e. `0` for the first class, `1` for the second class.\n",
    "The return is a scalar.\n",
    "\n",
    "Hints:\n",
    " * You may want to google the documentation for `numpy.unique()`,  paying particular attention to the `return_counts` keyword.\n",
    " * Beware `log(0)`.\n",
    " * Be careful about type - you may need to use `.astype(float)` to avoid integer division.\n",
    "\n",
    "__(4 marks)__"
   ]
  },
  {
   "cell_type": "code",
   "execution_count": 6,
   "metadata": {},
   "outputs": [
    {
     "name": "stdout",
     "output_type": "stream",
     "text": [
      "The entropy of 'y' is: 0.9526\n"
     ]
    }
   ],
   "source": [
    "def calculate_entropy(y):\n",
    "    \n",
    "    # **************************************************************** 4 marks\n",
    "    \n",
    "    values, counts = np.unique(y, return_counts=True)\n",
    "    \n",
    "    probabilities = []\n",
    "    \n",
    "    if counts.size == 1:\n",
    "        probabilities.append(1)\n",
    "    else:\n",
    "        for i in values:\n",
    "            probabilities.append(counts[i].astype(float)/y.size)      \n",
    "                   \n",
    "    entropySum = 0\n",
    "    for Pi in probabilities:\n",
    "        entropySum += Pi * np.log2(Pi)\n",
    "                   \n",
    "    entropy = -entropySum\n",
    "                          \n",
    "    return entropy\n",
    "\n",
    "\n",
    "print(\"The entropy of 'y' is: {:.4f}\".format(calculate_entropy(y)))"
   ]
  },
  {
   "cell_type": "markdown",
   "metadata": {},
   "source": [
    "## 3. Doing the Splits\n",
    "\n",
    "Use the function `calculate_entropy()` to complete the function `find_split(x, y)`.\n",
    "\n",
    "`find_split(x, y)` takes as input:\n",
    " * The data matrix of features, `x` with shape `(n,d)`. `n` is the number of data points and `d` is the feature dimensionality. \n",
    " * `y`, a column vector of size `n` containing the target value for each data point in `x`.\n",
    "\n",
    "`find_split(x, y)` outputs 'best_split' which is a dictionary (see the last part of the below code) with the following keys and their corresponding values:\n",
    "\n",
    " * `'feature'`: An integer indexing the attribute/feature chosen to split upon.\n",
    " * `'split'`: The value/threshold of this feature to split at.\n",
    " * `'infogain'`: A scalar representing the amount of information gained by splitting this way.\n",
    " * `'left_indices'`: Indices of the exemplars that satisfy `x[feature_index]<=split`.\n",
    " * `'right_indices'`: Opposite set of indices to `left_indices`.\n",
    "\n",
    "__(5 marks)__"
   ]
  },
  {
   "cell_type": "code",
   "execution_count": 7,
   "metadata": {
    "scrolled": true
   },
   "outputs": [],
   "source": [
    "def find_split(x, y):\n",
    "    \"\"\"Given a dataset and its target values, this finds the optimal combination\n",
    "    of feature and split point that gives the maximum information gain.\"\"\"\n",
    "    \n",
    "    # Need the starting entropy so we can measure improvement...\n",
    "    start_entropy = calculate_entropy(y)\n",
    "    \n",
    "    # Best thus far, initialised to a dud that will be replaced immediately...\n",
    "    best = {'infogain' : -np.inf}\n",
    "    \n",
    "    # Loop every possible split of every dimension...\n",
    "    for i in range(x.shape[1]):\n",
    "        for split in np.unique(x[:,i]):\n",
    "            \n",
    "            # **************************************************************** 5 marks\n",
    "            left_indices = np.where(x[:,i] <= split)[0]\n",
    "            right_indices = np.where(x[:,i] > split)[0]\n",
    "            \n",
    "            # Infogain = Entropy(Parent) - nl/n(Entropy(Left)) - nr/n(Entropy(Right))\n",
    "            infoLeft = (len(left_indices)/len(y)) * calculate_entropy(y[left_indices])\n",
    "            infoRight = (len(right_indices)/len(y)) * calculate_entropy(y[right_indices])\n",
    "            infogain = start_entropy - infoLeft - infoRight\n",
    "                  \n",
    "            if infogain > best['infogain']:\n",
    "                best = {'feature' : i,\n",
    "                        'split' : split,\n",
    "                        'infogain' : infogain, \n",
    "                        'left_indices' : left_indices,\n",
    "                        'right_indices' : right_indices}\n",
    "    return best"
   ]
  },
  {
   "cell_type": "markdown",
   "metadata": {
    "collapsed": true
   },
   "source": [
    "The function `find_split()` allows us to find the optimal feature and the best value to split the data into two chunks (on its own it is the _decision stump_ algorithm). Applying this to the original data set splits it into two new data sets. We can then repeat this on both of the new data sets to get four data sets, and so on. This recursion builds a decision tree. It needs a stopping condition, to prevent it dividing the data forever, here we will use two:\n",
    " * Maximum depth: The tree is limited to be no deeper than a provided limit.\n",
    " * Perfection: If a node contains only one class then it does not make sense to split it further.\n",
    "\n",
    "We provide the function `build_tree(x, y, max_depth)` below to construct a tree. The inputs are: \n",
    "\n",
    " * The data matrix of features, `x` in `R^None`. `n` is the number of data points and `d` is the feature dimensionality. \n",
    " * `y`, a column vector of size `n` containing the target value for each data point in `x`.\n",
    " * The maximum depth of the tree, `max_depth`.\n",
    "\n",
    "The output of this function is a dictionary. If it has generated a leaf node then the keys are:\n",
    " * `'leaf' : True`\n",
    " * `'class'` : The index of the class to assign to exemplars that land here.\n",
    "\n",
    "If it has generated a split node then the keys are:\n",
    " * `'leaf' : False`\n",
    " * `'feature'`: The feature to apply the `split` to.\n",
    " * `'split'`: The split to test the exemplars `feature` with.\n",
    " * `'infogain'`: The information gain of this split.\n",
    " * `'left'` : The left subtree, for exemplars where `x[feature_index]<=split`\n",
    " * `'right'` : The right subtree, for exemplars where `x[feature_index]>split`\n",
    "\n",
    "Note how this structure is compatable with the one returned by `find_split()` above.\n"
   ]
  },
  {
   "cell_type": "code",
   "execution_count": 8,
   "metadata": {},
   "outputs": [],
   "source": [
    "def build_tree(x, y, max_depth = np.inf):\n",
    "    # Check if either of the stopping conditions have been reached. If so generate a leaf node...\n",
    "    if max_depth==1 or (y==y[0]).all():\n",
    "        # Generate a leaf node...\n",
    "        classes, counts = np.unique(y, return_counts=True)\n",
    "        return {'leaf' : True, 'class' : classes[np.argmax(counts)]}\n",
    "    \n",
    "    else:\n",
    "        move = find_split(x, y)\n",
    "        \n",
    "        left = build_tree(x[move['left_indices'],:], y[move['left_indices']], max_depth - 1)\n",
    "        right = build_tree(x[move['right_indices'],:], y[move['right_indices']], max_depth - 1)\n",
    "        \n",
    "        return {'leaf' : False,\n",
    "                'feature' : move['feature'],\n",
    "                'split' : move['split'],\n",
    "                'infogain' : move['infogain'],\n",
    "                'left' : left,\n",
    "                'right' : right}"
   ]
  },
  {
   "cell_type": "markdown",
   "metadata": {
    "collapsed": true
   },
   "source": [
    "After building the tree we should be able to predict the class of a sample. We do that by propagating the sample through the tree, i.e. we check all the splitting conditions until the sample falls in a leaf node, in which case the class of the leaf node is attributed to the sample.\n",
    "\n",
    "We provide the recursive function `predict_one(tree, sample)` that takes as input the constructed tree, a sample in `R^d` and recursively propagates it through the branches of our tree. The output of this function is the class predicted for the sample."
   ]
  },
  {
   "cell_type": "code",
   "execution_count": 9,
   "metadata": {},
   "outputs": [],
   "source": [
    "def predict_one(tree, sample):\n",
    "    \"\"\"Does the prediction for a single data point\"\"\"\n",
    "    if tree['leaf']:\n",
    "        return tree['class']\n",
    "    \n",
    "    else:\n",
    "        if sample[tree['feature']] <= tree['split']:\n",
    "            return predict_one(tree['left'], sample)\n",
    "        else:\n",
    "            return predict_one(tree['right'], sample)\n"
   ]
  },
  {
   "cell_type": "markdown",
   "metadata": {},
   "source": [
    "We further generalize the prediction function above to the case where we have a data matrix `R^None` representing many data points. the function `predict(tree, samples)` bellow takes as input the constructed tree and a data array then returns an array containing the predictions for all the samples in our input data array."
   ]
  },
  {
   "cell_type": "code",
   "execution_count": 10,
   "metadata": {},
   "outputs": [],
   "source": [
    "def predict(tree, samples):\n",
    "    \"\"\"Predicts class for every entry of a data matrix.\"\"\"\n",
    "    ret = np.empty(samples.shape[0], dtype=int)\n",
    "    ret.fill(-1)\n",
    "    indices = np.arange(samples.shape[0])\n",
    "    \n",
    "    def tranverse(node, indices):\n",
    "        nonlocal samples\n",
    "        nonlocal ret\n",
    "        \n",
    "        if node['leaf']:\n",
    "            ret[indices] = node['class']\n",
    "        \n",
    "        else:\n",
    "            going_left = samples[indices, node['feature']] <= node['split']\n",
    "            left_indices = indices[going_left]\n",
    "            right_indices = indices[np.logical_not(going_left)]\n",
    "            \n",
    "            if left_indices.shape[0] > 0:\n",
    "                tranverse(node['left'], left_indices)\n",
    "                \n",
    "            if right_indices.shape[0] > 0:\n",
    "                tranverse(node['right'], right_indices)\n",
    "    \n",
    "    tranverse(tree, indices)\n",
    "    return ret"
   ]
  },
  {
   "cell_type": "markdown",
   "metadata": {},
   "source": [
    "## 4. Accuracy:\n",
    "Use the functions defined above to build a tree and report both its training and test accuracy.\n",
    "\n",
    "__(2 marks)__"
   ]
  },
  {
   "cell_type": "code",
   "execution_count": 11,
   "metadata": {},
   "outputs": [
    {
     "name": "stdout",
     "output_type": "stream",
     "text": [
      "{'leaf': False, 'feature': 22, 'split': 105.0, 'infogain': 0.6180372496508715, 'left': {'leaf': False, 'feature': 24, 'split': 0.1733, 'infogain': 0.14260717506536755, 'left': {'leaf': False, 'feature': 21, 'split': 23.31, 'infogain': 0.046686955553979476, 'left': {'leaf': True, 'class': 1}, 'right': {'leaf': False, 'feature': 27, 'split': 0.1282, 'infogain': 0.1084651853828234, 'left': {'leaf': True, 'class': 1}, 'right': {'leaf': True, 'class': 0}}}, 'right': {'leaf': True, 'class': 0}}, 'right': {'leaf': False, 'feature': 22, 'split': 114.3, 'infogain': 0.15946418150236125, 'left': {'leaf': False, 'feature': 1, 'split': 19.65, 'infogain': 0.61751117056093, 'left': {'leaf': False, 'feature': 0, 'split': 13.96, 'infogain': 0.7219280948873623, 'left': {'leaf': True, 'class': 0}, 'right': {'leaf': True, 'class': 1}}, 'right': {'leaf': True, 'class': 0}}, 'right': {'leaf': False, 'feature': 7, 'split': 0.02771, 'infogain': 0.06722154475830686, 'left': {'leaf': True, 'class': 1}, 'right': {'leaf': True, 'class': 0}}}}\n"
     ]
    }
   ],
   "source": [
    "print(build_tree(x_train, y_train, 5))"
   ]
  },
  {
   "cell_type": "code",
   "execution_count": 11,
   "metadata": {},
   "outputs": [
    {
     "name": "stdout",
     "output_type": "stream",
     "text": [
      "Train Accuracy: 100.00%\n",
      "Test Accuracy: 89.91%\n"
     ]
    }
   ],
   "source": [
    "def evaluate(x_train, y_train, x_test, y_test, max_depth):\n",
    "    \n",
    "    # **************************************************************** 2 marks\n",
    "    trainCorrect = 0\n",
    "    TestCorrect = 0\n",
    "    \n",
    "    predictionsTrain = predict(build_tree(x_train, y_train, max_depth), x_train)\n",
    "    predictionsTest = predict(build_tree(x_train, y_train, max_depth), x_test)\n",
    "    \n",
    "    nTrain = predictionsTrain.shape[0]\n",
    "    nTest =  predictionsTest.shape[0]\n",
    "\n",
    "    for dataPoint in range(nTrain):\n",
    "        if predictionsTrain[dataPoint] == y_train[dataPoint]:\n",
    "            trainCorrect += 1\n",
    "            \n",
    "    for dataPoint in range(nTest):\n",
    "        if predictionsTest[dataPoint] == y_test[dataPoint]:\n",
    "            TestCorrect += 1\n",
    "    \n",
    "    train_acc = trainCorrect / nTrain\n",
    "    test_acc  = TestCorrect / nTest\n",
    "    \n",
    "    return train_acc, test_acc\n",
    "\n",
    "train_acc, test_acc = evaluate(x_train, y_train, x_test, y_test, np.inf)\n",
    "print('Train Accuracy: {:.2f}%'.format(train_acc*100))\n",
    "print('Test Accuracy: {:.2f}%'.format(test_acc*100))"
   ]
  },
  {
   "cell_type": "markdown",
   "metadata": {},
   "source": [
    "## 5. Optimal Tree Depth\n",
    "\n",
    "Find the best `max_depth` parameter plus its corresponding training and test accuracies. A good range to test is `range(2,6)`.\n",
    "\n",
    "__(2 marks)__"
   ]
  },
  {
   "cell_type": "code",
   "execution_count": 265,
   "metadata": {
    "scrolled": true
   },
   "outputs": [
    {
     "name": "stdout",
     "output_type": "stream",
     "text": [
      "The best max_depth is 2, and the corresponding training and test accuracies are 100.00% and 89.91% respectively.\n"
     ]
    }
   ],
   "source": [
    "def find_best_max_depth(x_train, y_train, x_test, y_test):\n",
    "    \n",
    "    # **************************************************************** 2 marks\n",
    "    best_max_depth = 0\n",
    "    best_train_acc = 0\n",
    "    best_test_acc = 0\n",
    "    \n",
    "    for depth in range(2,5):\n",
    "        train_acc, test_acc = evaluate(x_train, y_train, x_test, y_test, depth)\n",
    "        if train_acc > best_train_acc and test_acc > best_test_acc:\n",
    "            best_train_acc = train_acc\n",
    "            best_test_acc = test_acc\n",
    "            best_max_depth = depth\n",
    "    \n",
    "    \n",
    "    return best_max_depth, best_train_acc, best_test_acc\n",
    "\n",
    "\n",
    "best_max_depth, best_train_acc, best_test_acc = find_best_max_depth(x_train, y_train, x_test, y_test)\n",
    "print('The best max_depth is {}, and the corresponding training and test accuracies are {:.2f}% and {:.2f}% respectively.'.format(best_max_depth,best_train_acc*100,best_test_acc*100))"
   ]
  },
  {
   "cell_type": "markdown",
   "metadata": {},
   "source": [
    "## 6. Looking at Trees\n",
    "\n",
    "Write a recursive function that prints out a tree, and use it to print the <b>best</b> tree learned.\n",
    "\n",
    "Example:\n",
    "\n",
    "```\n",
    "    [x22 <=0.296]\n",
    "\n",
    "        [x27 <=-0.058]\n",
    "\n",
    "          [x13 <=0.187]\n",
    "\n",
    "           [x21 <=1.246]\n",
    "                predict 1\n",
    "                \n",
    "           [x21 >1.246]\n",
    "                predict 0\n",
    "                \n",
    "          [x13 >0.187]\n",
    "\n",
    "           [x0 <=0.160]\n",
    "                predict 1\n",
    "                \n",
    "           [x0 >0.160]\n",
    "                predict 0\n",
    "                \n",
    "        [x27 >-0.058]\n",
    "\n",
    "          [x27 <=0.690]\n",
    "\n",
    "           [x21 <=0.263]\n",
    "            predict 1\n",
    "            \n",
    "           [x21 >0.263]\n",
    "            predict 0\n",
    "            \n",
    "          [x27 >0.690]\n",
    "            predict 0\n",
    "            \n",
    "    [x22 >0.296]\n",
    "\n",
    "    predict 0\n",
    "```\n",
    "\n",
    "The conditions with the same tree depth must be indented the same amount. This function should have as input the tree learned, and a scalar `indent` that is used to measure how far to indent at the current recursion level.\n",
    "\n",
    "__(1 mark)__"
   ]
  },
  {
   "cell_type": "code",
   "execution_count": 266,
   "metadata": {},
   "outputs": [
    {
     "name": "stdout",
     "output_type": "stream",
     "text": [
      "\n",
      "\t[x22 <=105.0]\n",
      "\t   predict 1\n",
      "\n",
      "\t[x22 >105.0]\n",
      "\t   predict 0\n"
     ]
    }
   ],
   "source": [
    "def print_tree(tree, indent = 0):\n",
    "    \n",
    "    # **************************************************************** 1 mark\n",
    "    indent += 1\n",
    "    \n",
    "    if tree['leaf'] != False:\n",
    "        print('{}   predict {}'.format('\\t'*(indent-1), tree['class']))\n",
    "   \n",
    "    else:\n",
    "        print()\n",
    "        print('{}[x{} {}{}]'.format('\\t'*indent, tree['feature'], '<=', tree['split']))\n",
    "        print_tree(tree['left'], indent)\n",
    "        \n",
    "        print()\n",
    "        print('{}[x{} {}{}]'.format('\\t'*indent, tree['feature'], '>', tree['split']))\n",
    "        print_tree(tree['right'], indent)\n",
    "        \n",
    "\n",
    "tree = build_tree(x_train, y_train, best_max_depth)\n",
    "print_tree(tree)"
   ]
  },
  {
   "cell_type": "code",
   "execution_count": null,
   "metadata": {},
   "outputs": [],
   "source": []
  }
 ],
 "metadata": {
  "kernelspec": {
   "display_name": "Python 3",
   "language": "python",
   "name": "python3"
  },
  "language_info": {
   "codemirror_mode": {
    "name": "ipython",
    "version": 3
   },
   "file_extension": ".py",
   "mimetype": "text/x-python",
   "name": "python",
   "nbconvert_exporter": "python",
   "pygments_lexer": "ipython3",
   "version": "3.8.5"
  }
 },
 "nbformat": 4,
 "nbformat_minor": 2
}
