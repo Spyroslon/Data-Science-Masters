{
 "cells": [
  {
   "cell_type": "markdown",
   "metadata": {},
   "source": [
    "# CM50266 Applied Data Science\n",
    "# Lab 3: Time Diary Data Capture, Analysis and Reporting\n",
    "\n",
    "Script for post-processing the xls time diary form to tranfer the data to a valid csv format."
   ]
  },
  {
   "cell_type": "code",
   "execution_count": 1,
   "metadata": {},
   "outputs": [],
   "source": [
    "import pandas as pd\n",
    "import csv\n",
    "import datetime"
   ]
  },
  {
   "cell_type": "markdown",
   "metadata": {},
   "source": [
    "### Initializing functions used"
   ]
  },
  {
   "cell_type": "code",
   "execution_count": 2,
   "metadata": {},
   "outputs": [],
   "source": [
    "def getActivityCode(activityDescription):\n",
    "    \n",
    "    if activityDescription == 'Eating / Drinking':\n",
    "        return 'ED145'\n",
    "    elif activityDescription == 'Education / Lectures':\n",
    "        return 'EL642'\n",
    "    elif activityDescription == 'Exercise':\n",
    "        return 'X893'\n",
    "    elif activityDescription == 'Housework':\n",
    "        return 'H179'\n",
    "    elif activityDescription == 'Leisure':\n",
    "        return 'L418'\n",
    "    elif activityDescription == 'Reading':\n",
    "        return 'R523'\n",
    "    elif activityDescription == 'Sleep':\n",
    "        return 'S801'\n",
    "    elif activityDescription == 'Travelling':\n",
    "        return 'T695'\n",
    "    elif activityDescription == 'Using Devices':\n",
    "        return 'UD415'\n",
    "    elif activityDescription == 'Paid Work':\n",
    "        return 'PW101'\n",
    "    elif activityDescription == 'Coursework':\n",
    "        return 'CW982'\n",
    "    elif activityDescription == 'Other':\n",
    "        return 'O733'\n",
    "    elif activityDescription == '':\n",
    "        return ''\n",
    "    "
   ]
  },
  {
   "cell_type": "code",
   "execution_count": 3,
   "metadata": {},
   "outputs": [],
   "source": [
    "def getUniBathWeekNo(activitydate):\n",
    "    if datetime.datetime(2021, 2, 1) <= activitydate and activitydate <= datetime.datetime(2021, 2, 7):\n",
    "        return 19\n",
    "    elif datetime.datetime(2021, 2, 8) <= activitydate and activitydate <= datetime.datetime(2021, 2, 14):\n",
    "        return 20\n",
    "    elif datetime.datetime(2021, 2, 15) <= activitydate and activitydate <= datetime.datetime(2021, 2, 21):\n",
    "        return 21\n",
    "    elif datetime.datetime(2021, 2, 22) <= activitydate and activitydate <= datetime.datetime(2021, 2, 28):\n",
    "        return 22\n",
    "    elif datetime.datetime(2021, 3, 1) <= activitydate and activitydate <= datetime.datetime(2021, 3, 7):\n",
    "        return 23\n",
    "    elif datetime.datetime(2021, 3, 8) <= activitydate and activitydate <= datetime.datetime(2021, 3, 14):\n",
    "        return 24\n",
    "    elif datetime.datetime(2021, 3, 15) <= activitydate and activitydate <= datetime.datetime(2021, 3, 21):\n",
    "        return 25\n",
    "    elif datetime.datetime(2021, 3, 22) <= activitydate and activitydate <= datetime.datetime(2021, 3, 28):\n",
    "        return 26\n",
    "    elif datetime.datetime(2021, 3, 29) <= activitydate and activitydate <= datetime.datetime(2021, 4, 4):\n",
    "        return 27\n",
    "    elif datetime.datetime(2021, 4, 5) <= activitydate and activitydate <= datetime.datetime(2021, 4, 11):\n",
    "        return 28\n",
    "    elif datetime.datetime(2021, 4, 12) <= activitydate and activitydate <= datetime.datetime(2021, 4, 18):\n",
    "        return 29\n",
    "    elif datetime.datetime(2021, 4, 19) <= activitydate and activitydate <= datetime.datetime(2021, 4, 25):\n",
    "        return 30\n",
    "    elif datetime.datetime(2021, 4, 26) <= activitydate and activitydate <= datetime.datetime(2021, 5, 2):\n",
    "        return 31\n",
    "    elif datetime.datetime(2021, 5, 3) <= activitydate and activitydate <= datetime.datetime(2021, 5, 9):\n",
    "        return 32\n"
   ]
  },
  {
   "cell_type": "code",
   "execution_count": 4,
   "metadata": {},
   "outputs": [],
   "source": [
    "def getEnjoymentScore(enjoymentDescription):\n",
    "    \n",
    "    if enjoymentDescription == 'very enjoyable':\n",
    "        return 2\n",
    "    elif enjoymentDescription == 'somewhat enjoyable':\n",
    "        return 1\n",
    "    elif enjoymentDescription == 'neither enjoyable nor unenjoyable':\n",
    "        return 0\n",
    "    elif enjoymentDescription == 'somewhat unenjoyable':\n",
    "        return -1\n",
    "    elif enjoymentDescription == 'very unenjoyable':\n",
    "        return -2\n",
    "    elif enjoymentDescription == '':\n",
    "        return ''\n",
    "    "
   ]
  },
  {
   "cell_type": "code",
   "execution_count": 5,
   "metadata": {},
   "outputs": [],
   "source": [
    "def getTirednessScore(tirednessDescription):\n",
    "    \n",
    "    if tirednessDescription == 'Extremely tired':\n",
    "        return 5\n",
    "    elif tirednessDescription == 'Very Tired':\n",
    "        return 4\n",
    "    elif tirednessDescription == 'Moderately Tired':\n",
    "        return 3\n",
    "    elif tirednessDescription == 'Slightly Tired':\n",
    "        return 2\n",
    "    elif tirednessDescription == 'Not tired at all':\n",
    "        return 1\n",
    "    elif tirednessDescription == '':\n",
    "        return ''\n",
    "    "
   ]
  },
  {
   "cell_type": "code",
   "execution_count": 6,
   "metadata": {},
   "outputs": [],
   "source": [
    "def getTaskCompletionScore(taskCompletionDescription):\n",
    "    \n",
    "    if taskCompletionDescription == 'Full Completion':\n",
    "        return 5\n",
    "    elif taskCompletionDescription == 'Huge Progress':\n",
    "        return 4\n",
    "    elif taskCompletionDescription == 'Average Progress':\n",
    "        return 3\n",
    "    elif taskCompletionDescription == 'Little Progress':\n",
    "        return 2\n",
    "    elif taskCompletionDescription == 'No Progress':\n",
    "        return 1\n",
    "    elif taskCompletionDescription == '':\n",
    "        return ''\n",
    "    "
   ]
  },
  {
   "cell_type": "markdown",
   "metadata": {},
   "source": [
    "### xls file Parser"
   ]
  },
  {
   "cell_type": "code",
   "execution_count": 7,
   "metadata": {},
   "outputs": [],
   "source": [
    "# install xlrd though anaconda if it does not execute\n",
    "data = pd.read_excel('completed_form.xls')\n",
    "data.fillna('', inplace=True)"
   ]
  },
  {
   "cell_type": "markdown",
   "metadata": {},
   "source": [
    "### Data Processing"
   ]
  },
  {
   "cell_type": "code",
   "execution_count": 13,
   "metadata": {},
   "outputs": [
    {
     "name": "stdout",
     "output_type": "stream",
     "text": [
      "<class 'datetime.datetime'>\n",
      "<class 'datetime.datetime'> | 00:00:00\n",
      "<class 'datetime.datetime'> | 09:00:00\n",
      "<class 'datetime.datetime'> | 09:30:00\n",
      "<class 'datetime.datetime'> | 10:00:00\n",
      "<class 'datetime.datetime'> | 15:00:00\n",
      "<class 'datetime.datetime'> | 15:30:00\n",
      "<class 'datetime.datetime'> | 18:00:00\n",
      "<class 'datetime.datetime'> | 19:30:00\n",
      "<class 'datetime.datetime'> | 20:00:00\n",
      "<class 'datetime.datetime'> | 20:30:00\n",
      "<class 'datetime.datetime'> | 23:00:00\n",
      "<class 'datetime.datetime'>\n",
      "<class 'datetime.datetime'> | 00:00:00\n",
      "<class 'datetime.datetime'> | 10:00:00\n",
      "<class 'datetime.datetime'> | 10:30:00\n",
      "<class 'datetime.datetime'> | 11:00:00\n",
      "<class 'datetime.datetime'> | 12:30:00\n",
      "<class 'datetime.datetime'> | 14:30:00\n",
      "<class 'datetime.datetime'> | 15:00:00\n",
      "<class 'datetime.datetime'> | 20:30:00\n",
      "<class 'datetime.datetime'> | 21:00:00\n",
      "<class 'datetime.datetime'> | 23:45:00\n",
      "<class 'datetime.datetime'>\n",
      "<class 'datetime.datetime'> | 00:00:00\n",
      "<class 'datetime.datetime'> | 09:30:00\n",
      "<class 'datetime.datetime'> | 10:15:00\n",
      "<class 'datetime.datetime'> | 11:00:00\n",
      "<class 'datetime.datetime'> | 14:30:00\n",
      "<class 'datetime.datetime'> | 15:00:00\n",
      "<class 'datetime.datetime'> | 19:00:00\n",
      "<class 'datetime.datetime'> | 19:45:00\n",
      "<class 'datetime.datetime'> | 20:15:00\n",
      "<class 'datetime.datetime'> | 23:30:00\n"
     ]
    }
   ],
   "source": [
    "csv_list = []\n",
    "\n",
    "for activity_index in range(13, data.shape[0]):\n",
    "    \n",
    "    activity = list(data.iloc[activity_index].values)\n",
    "    \n",
    "    # Primary Activity Code\n",
    "    PrimaryActivityCode = getActivityCode(activity[1])\n",
    "    \n",
    "     # Secondary Activity Code\n",
    "    SecondaryActivityCode = getActivityCode(activity[2])\n",
    "    \n",
    "    DescriptiveLabel = activity[3]\n",
    "        \n",
    "    # Date Processing fields\n",
    "    if activity[0] != '':\n",
    "        rawStartDate = activity[0]\n",
    "        StartDate = activity[0].strftime('%d/%m/%Y')\n",
    "        \n",
    "        print(type(activity[0]))\n",
    "        UniBathWeekNo = getUniBathWeekNo(activity[0])\n",
    "        DayOfWeek = activity[0].strftime('%A')\n",
    "    \n",
    "    # Time Processing\n",
    "    raw_startTime = datetime.time(activity[4], activity[5])\n",
    "    raw_endTime = datetime.time(activity[6], activity[7])\n",
    "    \n",
    "    StartTime = raw_startTime.strftime('%H:%M')\n",
    "    EndTime = raw_endTime.strftime('%H:%M')\n",
    "        \n",
    "    dateStartTime = datetime.datetime.combine(rawStartDate, raw_startTime)\n",
    "    dateEndTime = datetime.datetime.combine(rawStartDate, raw_endTime)\n",
    "    \n",
    "    # Correcting for activities extending over midnight\n",
    "    if dateEndTime < dateStartTime:\n",
    "        dateEndTime = dateEndTime + datetime.timedelta(days=1)\n",
    "    \n",
    "    DurationMins = int((dateEndTime - dateStartTime).total_seconds() / 60)\n",
    "    \n",
    "    # Enjoyment Score\n",
    "    EnjoymentScore = getEnjoymentScore(activity[8])\n",
    "\n",
    "    # Tiredness Score\n",
    "    TirednessScore = getTirednessScore(activity[9])\n",
    "    \n",
    "    # Task Completion Score\n",
    "    TaskCompletionScore = getTaskCompletionScore(activity[10])\n",
    "\n",
    "    values = PrimaryActivityCode,SecondaryActivityCode,DescriptiveLabel,StartDate,UniBathWeekNo,DayOfWeek,StartTime,EndTime,DurationMins,EnjoymentScore,TirednessScore,TaskCompletionScore\n",
    "    \n",
    "    csv_list.append(values)\n"
   ]
  },
  {
   "cell_type": "markdown",
   "metadata": {},
   "source": [
    "### Transfering processed data to csv"
   ]
  },
  {
   "cell_type": "code",
   "execution_count": 9,
   "metadata": {},
   "outputs": [
    {
     "name": "stdout",
     "output_type": "stream",
     "text": [
      "Successfully created the complete_data csv\n"
     ]
    }
   ],
   "source": [
    "column_name = ['PrimaryActivityCode', 'SecondaryActivityCode', 'DescriptiveLabel', 'StartDate', 'UniBathWeekNo', 'DayOfWeek', 'StartTime', 'EndTime', 'DurationMins', 'EnjoymentScore', 'TirednessScore', 'TaskCompletionScore']\n",
    "csv_df = pd.DataFrame(csv_list, columns=column_name)\n",
    "csv_df.to_csv('complete_data.csv', index=None)\n",
    "print('Successfully created the complete_data csv')"
   ]
  },
  {
   "cell_type": "code",
   "execution_count": null,
   "metadata": {},
   "outputs": [],
   "source": []
  }
 ],
 "metadata": {
  "kernelspec": {
   "display_name": "Python 3",
   "language": "python",
   "name": "python3"
  },
  "language_info": {
   "codemirror_mode": {
    "name": "ipython",
    "version": 3
   },
   "file_extension": ".py",
   "mimetype": "text/x-python",
   "name": "python",
   "nbconvert_exporter": "python",
   "pygments_lexer": "ipython3",
   "version": "3.8.5"
  }
 },
 "nbformat": 4,
 "nbformat_minor": 2
}
