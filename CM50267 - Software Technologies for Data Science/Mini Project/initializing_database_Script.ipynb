{
 "cells": [
  {
   "cell_type": "markdown",
   "metadata": {},
   "source": [
    "# CM50267 Software Technologies for Data Science\n",
    "## Mini Project Database\n",
    "### Initializing Script"
   ]
  },
  {
   "cell_type": "code",
   "execution_count": 51,
   "metadata": {},
   "outputs": [],
   "source": [
    "# This code wraps up the database access in a single function.\n",
    "import sqlite3\n",
    "import hashlib\n",
    "\n",
    "def access_database(dbfile, query, parameters=()):\n",
    "    \"\"\"Accesses database with the query and parameters given\"\"\"\n",
    "    connect = sqlite3.connect(dbfile)\n",
    "    cursor = connect.cursor()\n",
    "    cursor.execute(query, parameters)\n",
    "    connect.commit()\n",
    "    connect.close()\n",
    "    \n",
    "    \n",
    "def access_database_with_result(dbfile, query, parameters=()):\n",
    "    \"\"\"Accesses database and returns results with the query and parameters given\"\"\"\n",
    "    connect = sqlite3.connect(dbfile)\n",
    "    cursor = connect.cursor()\n",
    "    rows = cursor.execute(query, parameters).fetchall()\n",
    "    connect.commit()\n",
    "    connect.close()\n",
    "    return rows"
   ]
  },
  {
   "cell_type": "code",
   "execution_count": 52,
   "metadata": {},
   "outputs": [],
   "source": [
    "def setup_traffic_tables(dbfile):\n",
    "    # Get rid of any existing data\n",
    "    access_database(dbfile, \"DROP TABLE IF EXISTS loginCredentials\")\n",
    "    access_database(dbfile, \"DROP TABLE IF EXISTS activeSessions\")\n",
    "    access_database(dbfile, \"DROP TABLE IF EXISTS sessions\")\n",
    "    access_database(dbfile, \"DROP TABLE IF EXISTS traffic\")\n",
    "\n",
    "    # Freshly setup tables\n",
    "    access_database(dbfile, \"CREATE TABLE loginCredentials (username TEXT UNIQUE NOT NULL, password TEXT NOT NULL)\")\n",
    "    access_database(dbfile, \"CREATE TABLE activeSessions (user TEXT UNIQUE NOT NULL, magic TEXT NOT NULL)\")\n",
    "    access_database(dbfile, \"CREATE TABLE sessions (user TEXT NOT NULL, magic TEXT UNIQUE NOT NULL, startTime TEXT NOT NULL, endTime TEXT)\")\n",
    "    access_database(dbfile, \"CREATE TABLE traffic (location TEXT NOT NULL, vehicleType TEXT NOT NULL, occupancy INT NOT NULL, user TEXT NOT NULL, magic TEXT NOT NULL, time TEXT NOT NULL, undoCheck TEXT, recordID INTEGER PRIMARY KEY AUTOINCREMENT)\")\n",
    "\n",
    "    # Populate the tables with some initial data\n",
    "    access_database(dbfile, \"INSERT INTO loginCredentials VALUES (?,?)\", ('test1', str(hashlib.sha256(b'password1').hexdigest())))\n",
    "    access_database(dbfile, \"INSERT INTO loginCredentials VALUES (?,?)\", ('test2', str(hashlib.sha256(b'password2').hexdigest())))\n",
    "    access_database(dbfile, \"INSERT INTO loginCredentials VALUES (?,?)\", ('test3', str(hashlib.sha256(b'password3').hexdigest())))\n",
    "    access_database(dbfile, \"INSERT INTO loginCredentials VALUES (?,?)\", ('test4', str(hashlib.sha256(b'password4').hexdigest())))\n",
    "    access_database(dbfile, \"INSERT INTO loginCredentials VALUES (?,?)\", ('test5', str(hashlib.sha256(b'password5').hexdigest())))\n",
    "    access_database(dbfile, \"INSERT INTO loginCredentials VALUES (?,?)\", ('test6', str(hashlib.sha256(b'password6').hexdigest())))\n",
    "    access_database(dbfile, \"INSERT INTO loginCredentials VALUES (?,?)\", ('test7', str(hashlib.sha256(b'password7').hexdigest())))\n",
    "    access_database(dbfile, \"INSERT INTO loginCredentials VALUES (?,?)\", ('test8', str(hashlib.sha256(b'password8').hexdigest())))\n",
    "    access_database(dbfile, \"INSERT INTO loginCredentials VALUES (?,?)\", ('test9', str(hashlib.sha256(b'password9').hexdigest())))\n",
    "    access_database(dbfile, \"INSERT INTO loginCredentials VALUES (?,?)\", ('test10', str(hashlib.sha256(b'password10').hexdigest())))\n",
    "\n",
    "\n",
    "setup_traffic_tables(\"initial_database.db\")"
   ]
  },
  {
   "cell_type": "code",
   "execution_count": null,
   "metadata": {},
   "outputs": [],
   "source": []
  }
 ],
 "metadata": {
  "kernelspec": {
   "display_name": "Python 3",
   "language": "python",
   "name": "python3"
  },
  "language_info": {
   "codemirror_mode": {
    "name": "ipython",
    "version": 3
   },
   "file_extension": ".py",
   "mimetype": "text/x-python",
   "name": "python",
   "nbconvert_exporter": "python",
   "pygments_lexer": "ipython3",
   "version": "3.7.4"
  }
 },
 "nbformat": 4,
 "nbformat_minor": 2
}
