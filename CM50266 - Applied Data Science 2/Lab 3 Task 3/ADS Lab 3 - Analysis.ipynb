{
 "cells": [
  {
   "cell_type": "markdown",
   "metadata": {},
   "source": [
    "# CM50266 Applied Data Science\n",
    "## Lab 3 (Task 3): Time Diary Data Capture, Analysis and Reporting\n",
    "\n",
    "For analysing the complete dataset, with outputs such as data visualisations that show the results of our analysis."
   ]
  },
  {
   "cell_type": "code",
   "execution_count": 1,
   "metadata": {},
   "outputs": [],
   "source": [
    "# Importing the libraries used\n",
    "import pandas as pd\n",
    "import csv\n",
    "import datetime\n",
    "import numpy as np\n",
    "import glob\n",
    "import pandas as pd\n",
    "import seaborn as sns\n",
    "%matplotlib inline\n",
    "import matplotlib.pyplot as plt"
   ]
  },
  {
   "cell_type": "markdown",
   "metadata": {},
   "source": [
    "## Obtaining the dataset\n",
    "\n",
    "code that processes all of the .csv files provided and combining all of the\n",
    "individual datasets into a single dataset for analysis"
   ]
  },
  {
   "cell_type": "code",
   "execution_count": 2,
   "metadata": {},
   "outputs": [],
   "source": [
    "# Function to read all of the csv files into a single pandas dataframe\n",
    "def obtain_dataset(folder_name):\n",
    "    \n",
    "    data = []\n",
    "    \n",
    "    # Iterating through all of the csv files\n",
    "    for filename in glob.glob(folder_name+'/*.csv'):\n",
    "        \n",
    "        # Storing their instance\n",
    "        csv_df = pd.read_csv(filename, index_col=None, header=0)\n",
    "        data.append(csv_df)\n",
    "    \n",
    "    # And concatinating them into a single dataset\n",
    "    dataset = pd.concat(data, axis=0, ignore_index=True)\n",
    "    \n",
    "    return dataset\n",
    "    \n",
    "full_dataset = obtain_dataset('data')"
   ]
  },
  {
   "cell_type": "code",
   "execution_count": 3,
   "metadata": {},
   "outputs": [
    {
     "data": {
      "text/html": [
       "<div>\n",
       "<style scoped>\n",
       "    .dataframe tbody tr th:only-of-type {\n",
       "        vertical-align: middle;\n",
       "    }\n",
       "\n",
       "    .dataframe tbody tr th {\n",
       "        vertical-align: top;\n",
       "    }\n",
       "\n",
       "    .dataframe thead th {\n",
       "        text-align: right;\n",
       "    }\n",
       "</style>\n",
       "<table border=\"1\" class=\"dataframe\">\n",
       "  <thead>\n",
       "    <tr style=\"text-align: right;\">\n",
       "      <th></th>\n",
       "      <th>PrimaryActivityCode</th>\n",
       "      <th>SecondaryActivityCode</th>\n",
       "      <th>DescriptiveLabel</th>\n",
       "      <th>StartDate</th>\n",
       "      <th>UniBathWeekNo</th>\n",
       "      <th>DayOfWeek</th>\n",
       "      <th>StartTime</th>\n",
       "      <th>EndTime</th>\n",
       "      <th>DurationMins</th>\n",
       "      <th>EnjoymentScore</th>\n",
       "      <th>...</th>\n",
       "      <th>Screen-based Activity?</th>\n",
       "      <th>WatchingScreen</th>\n",
       "      <th>CoffeeCups</th>\n",
       "      <th>StressScore</th>\n",
       "      <th>Email checking</th>\n",
       "      <th>Alcohol consumption</th>\n",
       "      <th>How many people are you with?</th>\n",
       "      <th>Are you at home?</th>\n",
       "      <th>WithOthers</th>\n",
       "      <th>NumberOfPeople</th>\n",
       "    </tr>\n",
       "  </thead>\n",
       "  <tbody>\n",
       "    <tr>\n",
       "      <th>0</th>\n",
       "      <td>S801</td>\n",
       "      <td></td>\n",
       "      <td>Sleeping</td>\n",
       "      <td>08/03/2021</td>\n",
       "      <td>24.0</td>\n",
       "      <td>Monday</td>\n",
       "      <td>00:00</td>\n",
       "      <td>07:00</td>\n",
       "      <td>420.0</td>\n",
       "      <td>2.0</td>\n",
       "      <td>...</td>\n",
       "      <td>NaN</td>\n",
       "      <td>NaN</td>\n",
       "      <td>NaN</td>\n",
       "      <td>NaN</td>\n",
       "      <td>NaN</td>\n",
       "      <td>NaN</td>\n",
       "      <td>NaN</td>\n",
       "      <td>NaN</td>\n",
       "      <td>NaN</td>\n",
       "      <td>NaN</td>\n",
       "    </tr>\n",
       "    <tr>\n",
       "      <th>1</th>\n",
       "      <td>O733</td>\n",
       "      <td></td>\n",
       "      <td>Getting ready</td>\n",
       "      <td>08/03/2021</td>\n",
       "      <td>24.0</td>\n",
       "      <td>Monday</td>\n",
       "      <td>07:00</td>\n",
       "      <td>07:30</td>\n",
       "      <td>29.0</td>\n",
       "      <td>1.0</td>\n",
       "      <td>...</td>\n",
       "      <td>NaN</td>\n",
       "      <td>NaN</td>\n",
       "      <td>NaN</td>\n",
       "      <td>NaN</td>\n",
       "      <td>NaN</td>\n",
       "      <td>NaN</td>\n",
       "      <td>NaN</td>\n",
       "      <td>NaN</td>\n",
       "      <td>NaN</td>\n",
       "      <td>NaN</td>\n",
       "    </tr>\n",
       "    <tr>\n",
       "      <th>2</th>\n",
       "      <td>X893</td>\n",
       "      <td>UD415</td>\n",
       "      <td>Exercising while listening music</td>\n",
       "      <td>08/03/2021</td>\n",
       "      <td>24.0</td>\n",
       "      <td>Monday</td>\n",
       "      <td>07:30</td>\n",
       "      <td>08:15</td>\n",
       "      <td>45.0</td>\n",
       "      <td>2.0</td>\n",
       "      <td>...</td>\n",
       "      <td>NaN</td>\n",
       "      <td>NaN</td>\n",
       "      <td>NaN</td>\n",
       "      <td>NaN</td>\n",
       "      <td>NaN</td>\n",
       "      <td>NaN</td>\n",
       "      <td>NaN</td>\n",
       "      <td>NaN</td>\n",
       "      <td>NaN</td>\n",
       "      <td>NaN</td>\n",
       "    </tr>\n",
       "    <tr>\n",
       "      <th>3</th>\n",
       "      <td>ED152</td>\n",
       "      <td></td>\n",
       "      <td>Breakfast</td>\n",
       "      <td>08/03/2021</td>\n",
       "      <td>24.0</td>\n",
       "      <td>Monday</td>\n",
       "      <td>08:15</td>\n",
       "      <td>08:45</td>\n",
       "      <td>29.0</td>\n",
       "      <td>1.0</td>\n",
       "      <td>...</td>\n",
       "      <td>NaN</td>\n",
       "      <td>NaN</td>\n",
       "      <td>NaN</td>\n",
       "      <td>NaN</td>\n",
       "      <td>NaN</td>\n",
       "      <td>NaN</td>\n",
       "      <td>NaN</td>\n",
       "      <td>NaN</td>\n",
       "      <td>NaN</td>\n",
       "      <td>NaN</td>\n",
       "    </tr>\n",
       "    <tr>\n",
       "      <th>4</th>\n",
       "      <td>CW982</td>\n",
       "      <td></td>\n",
       "      <td>ADS Lab 3</td>\n",
       "      <td>08/03/2021</td>\n",
       "      <td>24.0</td>\n",
       "      <td>Monday</td>\n",
       "      <td>08:45</td>\n",
       "      <td>11:15</td>\n",
       "      <td>150.0</td>\n",
       "      <td>1.0</td>\n",
       "      <td>...</td>\n",
       "      <td>NaN</td>\n",
       "      <td>NaN</td>\n",
       "      <td>NaN</td>\n",
       "      <td>NaN</td>\n",
       "      <td>NaN</td>\n",
       "      <td>NaN</td>\n",
       "      <td>NaN</td>\n",
       "      <td>NaN</td>\n",
       "      <td>NaN</td>\n",
       "      <td>NaN</td>\n",
       "    </tr>\n",
       "  </tbody>\n",
       "</table>\n",
       "<p>5 rows × 381 columns</p>\n",
       "</div>"
      ],
      "text/plain": [
       "  PrimaryActivityCode SecondaryActivityCode                  DescriptiveLabel  \\\n",
       "0                S801                                                Sleeping   \n",
       "1                O733                                           Getting ready   \n",
       "2                X893                 UD415  Exercising while listening music   \n",
       "3               ED152                                               Breakfast   \n",
       "4               CW982                                               ADS Lab 3   \n",
       "\n",
       "    StartDate  UniBathWeekNo DayOfWeek StartTime EndTime  DurationMins  \\\n",
       "0  08/03/2021           24.0    Monday     00:00   07:00         420.0   \n",
       "1  08/03/2021           24.0    Monday     07:00   07:30          29.0   \n",
       "2  08/03/2021           24.0    Monday     07:30   08:15          45.0   \n",
       "3  08/03/2021           24.0    Monday     08:15   08:45          29.0   \n",
       "4  08/03/2021           24.0    Monday     08:45   11:15         150.0   \n",
       "\n",
       "   EnjoymentScore  ...  Screen-based Activity?  WatchingScreen  CoffeeCups  \\\n",
       "0             2.0  ...                     NaN             NaN         NaN   \n",
       "1             1.0  ...                     NaN             NaN         NaN   \n",
       "2             2.0  ...                     NaN             NaN         NaN   \n",
       "3             1.0  ...                     NaN             NaN         NaN   \n",
       "4             1.0  ...                     NaN             NaN         NaN   \n",
       "\n",
       "  StressScore Email checking  Alcohol consumption  \\\n",
       "0         NaN            NaN                  NaN   \n",
       "1         NaN            NaN                  NaN   \n",
       "2         NaN            NaN                  NaN   \n",
       "3         NaN            NaN                  NaN   \n",
       "4         NaN            NaN                  NaN   \n",
       "\n",
       "  How many people are you with?  Are you at home?  WithOthers NumberOfPeople  \n",
       "0                           NaN               NaN         NaN            NaN  \n",
       "1                           NaN               NaN         NaN            NaN  \n",
       "2                           NaN               NaN         NaN            NaN  \n",
       "3                           NaN               NaN         NaN            NaN  \n",
       "4                           NaN               NaN         NaN            NaN  \n",
       "\n",
       "[5 rows x 381 columns]"
      ]
     },
     "execution_count": 3,
     "metadata": {},
     "output_type": "execute_result"
    }
   ],
   "source": [
    "full_dataset.head()"
   ]
  },
  {
   "cell_type": "markdown",
   "metadata": {},
   "source": [
    "## Filtering the dataframe to the common 10 columns\n",
    "(disregarding the additional data columns as each person had different ones and serve no real use in the evaluation and results we ant to gather)"
   ]
  },
  {
   "cell_type": "code",
   "execution_count": 4,
   "metadata": {},
   "outputs": [],
   "source": [
    "standard_dataset_columns = ['PrimaryActivityCode','SecondaryActivityCode','DescriptiveLabel','StartDate','UniBathWeekNo','DayOfWeek','StartTime','EndTime','DurationMins','EnjoymentScore']\n",
    "standard_dataset = full_dataset[standard_dataset_columns].copy()"
   ]
  },
  {
   "cell_type": "code",
   "execution_count": 5,
   "metadata": {},
   "outputs": [
    {
     "data": {
      "text/html": [
       "<div>\n",
       "<style scoped>\n",
       "    .dataframe tbody tr th:only-of-type {\n",
       "        vertical-align: middle;\n",
       "    }\n",
       "\n",
       "    .dataframe tbody tr th {\n",
       "        vertical-align: top;\n",
       "    }\n",
       "\n",
       "    .dataframe thead th {\n",
       "        text-align: right;\n",
       "    }\n",
       "</style>\n",
       "<table border=\"1\" class=\"dataframe\">\n",
       "  <thead>\n",
       "    <tr style=\"text-align: right;\">\n",
       "      <th></th>\n",
       "      <th>PrimaryActivityCode</th>\n",
       "      <th>SecondaryActivityCode</th>\n",
       "      <th>DescriptiveLabel</th>\n",
       "      <th>StartDate</th>\n",
       "      <th>UniBathWeekNo</th>\n",
       "      <th>DayOfWeek</th>\n",
       "      <th>StartTime</th>\n",
       "      <th>EndTime</th>\n",
       "      <th>DurationMins</th>\n",
       "      <th>EnjoymentScore</th>\n",
       "    </tr>\n",
       "  </thead>\n",
       "  <tbody>\n",
       "    <tr>\n",
       "      <th>0</th>\n",
       "      <td>S801</td>\n",
       "      <td></td>\n",
       "      <td>Sleeping</td>\n",
       "      <td>08/03/2021</td>\n",
       "      <td>24.0</td>\n",
       "      <td>Monday</td>\n",
       "      <td>00:00</td>\n",
       "      <td>07:00</td>\n",
       "      <td>420.0</td>\n",
       "      <td>2.0</td>\n",
       "    </tr>\n",
       "    <tr>\n",
       "      <th>1</th>\n",
       "      <td>O733</td>\n",
       "      <td></td>\n",
       "      <td>Getting ready</td>\n",
       "      <td>08/03/2021</td>\n",
       "      <td>24.0</td>\n",
       "      <td>Monday</td>\n",
       "      <td>07:00</td>\n",
       "      <td>07:30</td>\n",
       "      <td>29.0</td>\n",
       "      <td>1.0</td>\n",
       "    </tr>\n",
       "    <tr>\n",
       "      <th>2</th>\n",
       "      <td>X893</td>\n",
       "      <td>UD415</td>\n",
       "      <td>Exercising while listening music</td>\n",
       "      <td>08/03/2021</td>\n",
       "      <td>24.0</td>\n",
       "      <td>Monday</td>\n",
       "      <td>07:30</td>\n",
       "      <td>08:15</td>\n",
       "      <td>45.0</td>\n",
       "      <td>2.0</td>\n",
       "    </tr>\n",
       "    <tr>\n",
       "      <th>3</th>\n",
       "      <td>ED152</td>\n",
       "      <td></td>\n",
       "      <td>Breakfast</td>\n",
       "      <td>08/03/2021</td>\n",
       "      <td>24.0</td>\n",
       "      <td>Monday</td>\n",
       "      <td>08:15</td>\n",
       "      <td>08:45</td>\n",
       "      <td>29.0</td>\n",
       "      <td>1.0</td>\n",
       "    </tr>\n",
       "    <tr>\n",
       "      <th>4</th>\n",
       "      <td>CW982</td>\n",
       "      <td></td>\n",
       "      <td>ADS Lab 3</td>\n",
       "      <td>08/03/2021</td>\n",
       "      <td>24.0</td>\n",
       "      <td>Monday</td>\n",
       "      <td>08:45</td>\n",
       "      <td>11:15</td>\n",
       "      <td>150.0</td>\n",
       "      <td>1.0</td>\n",
       "    </tr>\n",
       "  </tbody>\n",
       "</table>\n",
       "</div>"
      ],
      "text/plain": [
       "  PrimaryActivityCode SecondaryActivityCode                  DescriptiveLabel  \\\n",
       "0                S801                                                Sleeping   \n",
       "1                O733                                           Getting ready   \n",
       "2                X893                 UD415  Exercising while listening music   \n",
       "3               ED152                                               Breakfast   \n",
       "4               CW982                                               ADS Lab 3   \n",
       "\n",
       "    StartDate  UniBathWeekNo DayOfWeek StartTime EndTime  DurationMins  \\\n",
       "0  08/03/2021           24.0    Monday     00:00   07:00         420.0   \n",
       "1  08/03/2021           24.0    Monday     07:00   07:30          29.0   \n",
       "2  08/03/2021           24.0    Monday     07:30   08:15          45.0   \n",
       "3  08/03/2021           24.0    Monday     08:15   08:45          29.0   \n",
       "4  08/03/2021           24.0    Monday     08:45   11:15         150.0   \n",
       "\n",
       "   EnjoymentScore  \n",
       "0             2.0  \n",
       "1             1.0  \n",
       "2             2.0  \n",
       "3             1.0  \n",
       "4             1.0  "
      ]
     },
     "execution_count": 5,
     "metadata": {},
     "output_type": "execute_result"
    }
   ],
   "source": [
    "# Observing the first 5 records of the dataset\n",
    "standard_dataset.head()"
   ]
  },
  {
   "cell_type": "code",
   "execution_count": 6,
   "metadata": {},
   "outputs": [
    {
     "data": {
      "text/html": [
       "<div>\n",
       "<style scoped>\n",
       "    .dataframe tbody tr th:only-of-type {\n",
       "        vertical-align: middle;\n",
       "    }\n",
       "\n",
       "    .dataframe tbody tr th {\n",
       "        vertical-align: top;\n",
       "    }\n",
       "\n",
       "    .dataframe thead th {\n",
       "        text-align: right;\n",
       "    }\n",
       "</style>\n",
       "<table border=\"1\" class=\"dataframe\">\n",
       "  <thead>\n",
       "    <tr style=\"text-align: right;\">\n",
       "      <th></th>\n",
       "      <th>UniBathWeekNo</th>\n",
       "      <th>DurationMins</th>\n",
       "      <th>EnjoymentScore</th>\n",
       "    </tr>\n",
       "  </thead>\n",
       "  <tbody>\n",
       "    <tr>\n",
       "      <th>count</th>\n",
       "      <td>3003.000000</td>\n",
       "      <td>3016.000000</td>\n",
       "      <td>2645.000000</td>\n",
       "    </tr>\n",
       "    <tr>\n",
       "      <th>mean</th>\n",
       "      <td>23.091908</td>\n",
       "      <td>1664.026824</td>\n",
       "      <td>0.744045</td>\n",
       "    </tr>\n",
       "    <tr>\n",
       "      <th>std</th>\n",
       "      <td>2.626711</td>\n",
       "      <td>21999.560712</td>\n",
       "      <td>1.134942</td>\n",
       "    </tr>\n",
       "    <tr>\n",
       "      <th>min</th>\n",
       "      <td>-30.000000</td>\n",
       "      <td>0.000000</td>\n",
       "      <td>-2.000000</td>\n",
       "    </tr>\n",
       "    <tr>\n",
       "      <th>25%</th>\n",
       "      <td>23.000000</td>\n",
       "      <td>30.000000</td>\n",
       "      <td>0.000000</td>\n",
       "    </tr>\n",
       "    <tr>\n",
       "      <th>50%</th>\n",
       "      <td>23.000000</td>\n",
       "      <td>60.000000</td>\n",
       "      <td>1.000000</td>\n",
       "    </tr>\n",
       "    <tr>\n",
       "      <th>75%</th>\n",
       "      <td>24.000000</td>\n",
       "      <td>120.000000</td>\n",
       "      <td>2.000000</td>\n",
       "    </tr>\n",
       "    <tr>\n",
       "      <th>max</th>\n",
       "      <td>28.000000</td>\n",
       "      <td>570000.000000</td>\n",
       "      <td>2.000000</td>\n",
       "    </tr>\n",
       "  </tbody>\n",
       "</table>\n",
       "</div>"
      ],
      "text/plain": [
       "       UniBathWeekNo   DurationMins  EnjoymentScore\n",
       "count    3003.000000    3016.000000     2645.000000\n",
       "mean       23.091908    1664.026824        0.744045\n",
       "std         2.626711   21999.560712        1.134942\n",
       "min       -30.000000       0.000000       -2.000000\n",
       "25%        23.000000      30.000000        0.000000\n",
       "50%        23.000000      60.000000        1.000000\n",
       "75%        24.000000     120.000000        2.000000\n",
       "max        28.000000  570000.000000        2.000000"
      ]
     },
     "execution_count": 6,
     "metadata": {},
     "output_type": "execute_result"
    }
   ],
   "source": [
    "# Using the descibe method to check for anomalies in the minimum and maximum\n",
    "standard_dataset.describe()"
   ]
  },
  {
   "cell_type": "markdown",
   "metadata": {},
   "source": [
    "# Data Wrangling methods for all columns"
   ]
  },
  {
   "cell_type": "code",
   "execution_count": 7,
   "metadata": {},
   "outputs": [
    {
     "name": "stdout",
     "output_type": "stream",
     "text": [
      "(3122, 10)\n"
     ]
    }
   ],
   "source": [
    "# Creating a copy of the dataset which I will then use to perform my data wrangling methods\n",
    "filtered_dataset = standard_dataset\n",
    "print(filtered_dataset.shape)"
   ]
  },
  {
   "cell_type": "markdown",
   "metadata": {},
   "source": [
    "## Fixing PrimaryActivityCode column\n",
    "\n",
    "Removing any row that does not contain any of the 12 valid activities code in the PrimaryActivityCode column"
   ]
  },
  {
   "cell_type": "code",
   "execution_count": 8,
   "metadata": {},
   "outputs": [],
   "source": [
    "valid_activity_codes = ['ED145','EL642', 'X893', 'H179', 'L418', 'R523', 'S801', 'T695', 'UD415', 'PW101', 'CW982', 'O733']\n",
    "\n",
    "# Storing only the rows that contain values in the PrimaryActivityCode that are in the above list\n",
    "filtered_dataset = filtered_dataset.loc[filtered_dataset['PrimaryActivityCode'].isin(valid_activity_codes)]\n",
    "\n",
    "# Then resetting the index\n",
    "filtered_dataset.reset_index(drop=True, inplace=True)"
   ]
  },
  {
   "cell_type": "markdown",
   "metadata": {},
   "source": [
    "## Fixing SecondaryActivityCode column\n",
    "\n",
    "Since this column was optional to fill in, blank entries or any of the 12 valid activity codes are both acceptable"
   ]
  },
  {
   "cell_type": "code",
   "execution_count": 9,
   "metadata": {},
   "outputs": [
    {
     "name": "stdout",
     "output_type": "stream",
     "text": [
      "[' ', 'UD415', nan, 'CW982', 'L418', 'SA114', 'SA151', 'R523', 'H179', 'ED145', 'O733', 'X893', 'EL642', 'T695', 'OTH', 'ESS', 'PRO', 'ENT', 'S801', 'PW101', ' L418', ' O733', 'ED152']\n"
     ]
    }
   ],
   "source": [
    "# Observing all of the unique entries we have in the SecondaryActivityCode column\n",
    "print(list(filtered_dataset.SecondaryActivityCode.unique()))"
   ]
  },
  {
   "cell_type": "code",
   "execution_count": 10,
   "metadata": {},
   "outputs": [
    {
     "name": "stdout",
     "output_type": "stream",
     "text": [
      "['', 'UD415', 'CW982', 'L418', 'R523', 'H179', 'ED145', 'O733', 'X893', 'EL642', 'T695', 'S801', 'PW101']\n"
     ]
    },
    {
     "name": "stderr",
     "output_type": "stream",
     "text": [
      "C:\\ProgramData\\Anaconda3\\lib\\site-packages\\pandas\\core\\indexing.py:1765: SettingWithCopyWarning: \n",
      "A value is trying to be set on a copy of a slice from a DataFrame.\n",
      "Try using .loc[row_indexer,col_indexer] = value instead\n",
      "\n",
      "See the caveats in the documentation: https://pandas.pydata.org/pandas-docs/stable/user_guide/indexing.html#returning-a-view-versus-a-copy\n",
      "  isetter(loc, value)\n"
     ]
    }
   ],
   "source": [
    "# List of valid entries in the secondary activity code column\n",
    "valid_activity_codes2 = ['ED145','EL642', 'X893', 'H179', 'L418', 'R523', 'S801', 'T695', 'UD415', 'PW101', 'CW982', 'O733', '']\n",
    "\n",
    "# From the unique entries I saw that there where space values (' ') and nan values\n",
    "# I assumed that these where the empty fields so I replaced them with empty values ('')\n",
    "filtered_dataset.loc[filtered_dataset.SecondaryActivityCode == ' ', 'SecondaryActivityCode'] = ''\n",
    "filtered_dataset.loc[(filtered_dataset['SecondaryActivityCode']).isnull(), 'SecondaryActivityCode'] = ''\n",
    "\n",
    "# TStoring only the rows that contain values in the SecondaryActivityCode that are in the above list\n",
    "filtered_dataset = filtered_dataset.loc[filtered_dataset['SecondaryActivityCode'].isin(valid_activity_codes2)]\n",
    "\n",
    "# Showing the new list of unique values\n",
    "print(list(filtered_dataset.SecondaryActivityCode.unique()))\n",
    "\n",
    "# Resetting the index\n",
    "filtered_dataset.reset_index(drop=True, inplace=True)\n",
    "\n",
    "# The Warning shown has no effect in the processing of the dataset and it is due to how\n",
    "# copies and views are handled. No way to overcome this warning..."
   ]
  },
  {
   "cell_type": "markdown",
   "metadata": {},
   "source": [
    "## Descriptive Label (checking for personally identifiable information)"
   ]
  },
  {
   "cell_type": "code",
   "execution_count": 11,
   "metadata": {},
   "outputs": [
    {
     "name": "stdout",
     "output_type": "stream",
     "text": [
      "['5k', 'about', 'active', 'activity', 'admin', 'ads', 'after', 'afternoon', 'ahead', 'alarm', 'and', 'another', 'applied', 'appointments', 'apps', 'aquarium', 'around', 'arranging', 'arrived', 'articles', 'as', 'assignment', 'assignments', 'at', 'ate', 'attending', 'audio', 'audiobook', 'authors', 'back', 'background', 'ball', 'bath', 'bathing', 'bayesian', 'bed', 'before', 'bike', 'blog', 'blueberries', 'bml', 'body', 'bodyweight', 'book', 'books', 'break', 'breakfast', 'brekky', 'briefing', 'browsing', 'brunch', 'brush', 'brushing', 'bubble', 'building', 'built', 'burshing', 'butter', 'buying', 'call', 'calling', 'calls', 'car', 'cardio', 'cereal', 'change', 'changing', 'channel', 'chat', 'chatting', 'check', 'checking', 'chess', 'chicken', 'chilling', 'chit', 'chores', 'chorizo', 'class', 'classes', 'clean', 'cleaning', 'clear', 'clinic', 'clothes', 'cm50265', 'code', 'coding', 'coffee', 'committee', 'complacement', 'complacent', 'completing', 'computer', 'concerns', 'conference', 'continue', 'continuing', 'converstaion', 'cook', 'cooked', 'cooking', 'cornflakes', 'course', 'coursework', 'courseworks', 'courswork', 'covid', 'cowen', 'crash', 'crossword', 'cup', 'cw', 'cw1', 'dancing', 'dashboard', 'day', 'deadlines', 'debugging', 'designing', 'desk', 'dessertation', 'device', 'devices', 'dinner', 'disabling', 'discuss', 'discussion', 'dishes', 'disinfect', 'disney', 'dissertation', 'do', 'dog', 'doing', 'double', 'dress', 'dressed', 'dressing', 'driink', 'drink', 'drinking', 'drinks', 'drive', 'ds', 'eat', 'eating', 'ebooks', 'education', 'egg', 'emails', 'english', 'entp', 'events', 'exercise', 'exercising', 'facebook', 'family', 'faulty', 'few', 'fill', 'film', 'finish', 'finished', 'finishing', 'fire', 'fixing', 'flat', 'flatmates', 'food', 'football', 'for', 'form', 'freelance', 'freshen', 'fried', 'friend', 'friends', 'frisbee', 'from', 'front', 'full', 'game', 'games', 'gaming', 'gamming', 'get', 'getting', 'gf', 'go', 'going', 'groccery', 'groceries', 'grocery', 'group', 'guitar', 'gym', 'had', 'hanging', 'have', 'having', 'headache', 'helping', 'her', 'highlights', 'home', 'homeschooling', 'house', 'housework', 'how', 'hygeine', 'in', 'insta', 'instagram', 'internet', 'interview', 'ipad', 'ipt', 'isupova', 'it', 'job', 'jog', 'jogging', 'joggong', 'journalling', 'juice', 'kareoke', 'kfc', 'kid', 'kitchen', 'lab', 'lab2', 'language', 'laptop', 'last', 'late', 'laundary', 'laundry', 'law', 'leactures', 'learn', 'learning', 'lecture', 'lectures', 'leftovers', 'legislature', 'leisure', 'let', 'library', 'light', 'listeing', 'listen', 'listenig', 'listening', 'literature', 'live', 'loil', 'long', 'losing', 'lunch', 'machine', 'mackerel', 'magazine', 'maintenance', 'make', 'making', 'markets', 'masala', 'masterchef', 'material', 'meal', 'meating', 'media', 'meditation', 'meet', 'meeting', 'meetings', 'mi', 'milk', 'minecraft', 'missing', 'ml', 'ml2', 'mobile', 'moblie', 'model', 'monday', 'monitor', 'more', 'morning', 'motd', 'moulds', 'movie', 'movies', 'ms', 'music', 'my', 'nap', 'nba', 'needed', 'netflix', 'news', 'newspaper', 'night', 'no', 'note', 'notes', 'notion', 'novel', 'novels', 'oats', 'of', 'office', 'olga', 'omelette', 'on', 'online', 'or', 'other', 'out', 'outdoor', 'outdoors', 'outside', 'overleaf', 'paellaaaa', 'page', 'paid', 'pancakes', 'panopto', 'papers', 'pappers', 'park', 'part', 'partner', 'party', 'pasta', 'pc', 'peanut', 'perparing', 'personal', 'pesto', 'pharmacy', 'phone', 'phonecall', 'phoned', 'phoning', 'pick', 'place', 'plan', 'planning', 'play', 'playing', 'playstation', 'podcast', 'poker', 'porridge', 'post', 'premiere', 'prep', 'preparation', 'preparing', 'presentation', 'processing', 'procrastination', 'project', 'propensity', 'properly', 'property', 'ps5', 'pumpkin', 'purchases', 'python', 'queries', 'question', 'quiz', 'read', 'reading', 'ready', 'recorded', 'recordings', 'reddit', 'refrigerator', 'reinforcement', 'relaxing', 'replying', 'report', 'research', 'researching', 'rest', 'resting', 'review', 'revising', 'rice', 'ridding', 'ride', 'rl', 'roller', 'room', 'rugby', 'run', 'running', 'safety', 'salad', 'salmon', 'sandwich', 'section', 'self', 'seminar', 'series', 'sesh', 'session', 'sessions', 'shave', 'shop', 'shopping', 'shops', 'short', 'show', 'shower', 'showering', 'shows', 'singing', 'sister', 'sit', 'skating', 'skincare', 'sleep', 'sleeping', 'slime', 'smoked', 'snacks', 'sns', 'so', 'social', 'solicitor', 'some', 'songs', 'speaking', 'spec', 'spend', 'spin', 'sports', 'spreadsheet', 'stand', 'start', 'starting', 'steak', 'stew', 'store', 'study', 'studying', 'such', 'suits', 'sunday', 'supermarket', 'supervisor', 'surfing', 'swimming', 'swipe', 'swiping', 'switch', 'take', 'takeaway', 'taking', 'talk', 'talking', 'task', 'tbh', 'tea', 'team', 'teams', 'tech', 'teeth', 'television', 'telly', 'tesco', 'testing', 'tests', 'tetsing', 'text', 'textbook', 'texting', 'the', 'then', 'this', 'through', 'throwing', 'tidy', 'tidying', 'tiktok', 'time', 'to', 'toast', 'topics', 'train', 'training', 'transferring', 'travel', 'travelling', 'tutoring', 'tv', 'twitter', 'two', 'tyler', 'uni', 'up', 'upper', 'use', 'uses', 'using', 'vaccine', 'vedio', 'veggies', 'veritasium', 'vessels', 'video', 'videogames', 'videos', 'waching', 'wacthing', 'waiting', 'wake', 'waking', 'walk', 'walking', 'wash', 'washing', 'watch', 'watched', 'watching', 'water', 'web', 'webcomic', 'weekend', 'went', 'while', 'wife', 'will', 'with', 'work', 'working', 'workout', 'write', 'writing', 'xbox', 'yoga', 'youtbe', 'youtube', 'zoom', 'zzzz']\n"
     ]
    }
   ],
   "source": [
    "from sklearn.feature_extraction.text import CountVectorizer\n",
    "\n",
    "# Replacing nan with empty field\n",
    "filtered_dataset.loc[(filtered_dataset['DescriptiveLabel']).isnull(), 'DescriptiveLabel'] = ''\n",
    "\n",
    "# Using the count vectorizer method\n",
    "count_vect = CountVectorizer()\n",
    "# Fitting it to all of the descriptive labels in the dataset\n",
    "descriptions = count_vect.fit_transform(filtered_dataset['DescriptiveLabel'])\n",
    "\n",
    "# Then printing the complete dictionary with all of the unique words\n",
    "print(count_vect.get_feature_names())\n",
    "\n",
    "# Scrubbing through the dictionary created their is \n",
    "# no indication of personally ndentifiable information\n",
    "# Thus there is no need to further process any entry within this column"
   ]
  },
  {
   "cell_type": "markdown",
   "metadata": {},
   "source": [
    "## Fixing UniBathWeekNo issues\n",
    "\n",
    "At the start of the notebook I had observed from the .describe() method that the UniBathWeekNo column had a minimum value of '-30'. This indicated to me that there can be more than one invalid entries in that column and further processing should be done."
   ]
  },
  {
   "cell_type": "code",
   "execution_count": 12,
   "metadata": {},
   "outputs": [],
   "source": [
    "def getUniBathWeekNo(activitydate):\n",
    "    # Function to match dates with their corresponding UniBathWeekNo\n",
    "    if datetime.datetime(2021, 2, 1) <= activitydate and activitydate <= datetime.datetime(2021, 2, 7):\n",
    "        return 19\n",
    "    elif datetime.datetime(2021, 2, 8) <= activitydate and activitydate <= datetime.datetime(2021, 2, 14):\n",
    "        return 20\n",
    "    elif datetime.datetime(2021, 2, 15) <= activitydate and activitydate <= datetime.datetime(2021, 2, 21):\n",
    "        return 21\n",
    "    elif datetime.datetime(2021, 2, 22) <= activitydate and activitydate <= datetime.datetime(2021, 2, 28):\n",
    "        return 22\n",
    "    elif datetime.datetime(2021, 3, 1) <= activitydate and activitydate <= datetime.datetime(2021, 3, 7):\n",
    "        return 23\n",
    "    elif datetime.datetime(2021, 3, 8) <= activitydate and activitydate <= datetime.datetime(2021, 3, 14):\n",
    "        return 24\n",
    "    elif datetime.datetime(2021, 3, 15) <= activitydate and activitydate <= datetime.datetime(2021, 3, 21):\n",
    "        return 25\n",
    "    elif datetime.datetime(2021, 3, 22) <= activitydate and activitydate <= datetime.datetime(2021, 3, 28):\n",
    "        return 26\n",
    "    elif datetime.datetime(2021, 3, 29) <= activitydate and activitydate <= datetime.datetime(2021, 4, 4):\n",
    "        return 27\n",
    "    elif datetime.datetime(2021, 4, 5) <= activitydate and activitydate <= datetime.datetime(2021, 4, 11):\n",
    "        return 28\n",
    "    elif datetime.datetime(2021, 4, 12) <= activitydate and activitydate <= datetime.datetime(2021, 4, 18):\n",
    "        return 29\n",
    "    elif datetime.datetime(2021, 4, 19) <= activitydate and activitydate <= datetime.datetime(2021, 4, 25):\n",
    "        return 30\n",
    "    elif datetime.datetime(2021, 4, 26) <= activitydate and activitydate <= datetime.datetime(2021, 5, 2):\n",
    "        return 31\n",
    "    elif datetime.datetime(2021, 5, 3) <= activitydate and activitydate <= datetime.datetime(2021, 5, 9):\n",
    "        return 32\n",
    "    else:\n",
    "        return np.nan"
   ]
  },
  {
   "cell_type": "code",
   "execution_count": 13,
   "metadata": {},
   "outputs": [
    {
     "name": "stdout",
     "output_type": "stream",
     "text": [
      "[24.0, 23.0, 22.0, 19.0, -30.0, 2.0, 28.0, 27.0, 25.0, nan, 10.0]\n"
     ]
    }
   ],
   "source": [
    "print(list(filtered_dataset.UniBathWeekNo.unique()))\n",
    "# We can observe that there is are entries with -30, 2, 10 and nan\n",
    "# These are invalid values and should be fixed"
   ]
  },
  {
   "cell_type": "code",
   "execution_count": 14,
   "metadata": {},
   "outputs": [
    {
     "name": "stdout",
     "output_type": "stream",
     "text": [
      "[24.0, 23.0, 22.0, 19.0, 28.0, 27.0, 25.0]\n"
     ]
    }
   ],
   "source": [
    "# To fix these entries I used their start date and matched them \n",
    "# to their corresponding UniBathWeekNo\n",
    "\n",
    "# Storing the indexes where UniBathWeekNo==-30\n",
    "list_neg30 = filtered_dataset.loc[filtered_dataset['UniBathWeekNo'] == -30].index.tolist()\n",
    "\n",
    "# Iterating through these indexes\n",
    "for i in list_neg30:\n",
    "    index_startDate = filtered_dataset.loc[i]['StartDate']\n",
    "    index_startDate = datetime.datetime.strptime(index_startDate, '%d/%m/%y')\n",
    "    # Using their start date to update their field to the correct one\n",
    "    filtered_dataset.loc[i, 'UniBathWeekNo'] = getUniBathWeekNo(index_startDate)\n",
    "\n",
    "# -------------------------------------------------------------------------------------- #\n",
    "\n",
    "# Storing the indexes where UniBathWeekNo==2\n",
    "list_2 = filtered_dataset.loc[filtered_dataset['UniBathWeekNo'] == 2].index.tolist()\n",
    "\n",
    "# Iterating through these indexes\n",
    "for i in list_2:\n",
    "    index_startDate = filtered_dataset.loc[i]['StartDate']\n",
    "    index_startDate = datetime.datetime.strptime(index_startDate, '%Y-%d-%m')\n",
    "    # Using their start date to update their field to the correct one\n",
    "    filtered_dataset.loc[i, 'UniBathWeekNo'] = getUniBathWeekNo(index_startDate)\n",
    "\n",
    "# -------------------------------------------------------------------------------------- #\n",
    "\n",
    "# Storing the indexes where UniBathWeekNo==10\n",
    "list_10 = filtered_dataset.loc[filtered_dataset['UniBathWeekNo'] == 10].index.tolist()\n",
    "\n",
    "# Iterating through these indexes\n",
    "for i in list_10:\n",
    "    index_startDate = filtered_dataset.loc[i]['StartDate']\n",
    "    index_startDate = datetime.datetime.strptime(index_startDate, '%d/%m/%y')\n",
    "    # Using their start date to update their field to the correct one    \n",
    "    filtered_dataset.loc[i, 'UniBathWeekNo'] = getUniBathWeekNo(index_startDate)\n",
    "    \n",
    "# -------------------------------------------------------------------------------------- #\n",
    "\n",
    "# Storing the indexes where UniBathWeekNo==nan\n",
    "list_nan = filtered_dataset[filtered_dataset['UniBathWeekNo'].isna()].index.tolist()\n",
    "# Storing the indexes that need to be dropped as they have invalid entries\n",
    "# eg. (StartDate from 2019 and 2020)\n",
    "indexes_to_drop = []\n",
    "\n",
    "# Iterating through these indexes\n",
    "for i in list_nan:\n",
    "    index_startDate = filtered_dataset.loc[i]['StartDate']\n",
    "    # Checking if the string contains dashes\n",
    "    if '-' in index_startDate:\n",
    "        # Discarding the 2019 entries as they are invalid!!\n",
    "        if index_startDate.split('-')[0] == '2019':\n",
    "            indexes_to_drop.append(i)\n",
    "        else:\n",
    "            index_startDate = datetime.datetime.strptime(index_startDate, '%d-%m-%Y')\n",
    "            # Using their start date to update their field to the correct one    \n",
    "            filtered_dataset.loc[i, 'UniBathWeekNo'] = getUniBathWeekNo(index_startDate)\n",
    "    \n",
    "    # Since the only one that has slash has a date of 2020, it should be discarded\n",
    "    elif '/' in index_startDate:\n",
    "        indexes_to_drop.append(i)\n",
    "        \n",
    "# -------------------------------------------------------------------------------------- #\n",
    "\n",
    "# Dropping the invalid entries\n",
    "filtered_dataset.drop(filtered_dataset.index[indexes_to_drop], axis=0, inplace=True)\n",
    "# Resetting the index\n",
    "filtered_dataset.reset_index(drop=True, inplace=True)\n",
    "\n",
    "# After fixing the invalid entries we now have these unique values for UniBathWeekNo\n",
    "print(list(filtered_dataset.UniBathWeekNo.unique()))"
   ]
  },
  {
   "cell_type": "markdown",
   "metadata": {},
   "source": [
    "## Fixing DayOfWeek issues"
   ]
  },
  {
   "cell_type": "code",
   "execution_count": 15,
   "metadata": {},
   "outputs": [],
   "source": [
    "# https://www.semicolonworld.com/question/58576/how-to-format-date-string-via-multiple-formats-in-python\n",
    "def try_parsing_date(text):\n",
    "    # Function to help identify the appopriate format from the given string\n",
    "    for fmt in ('%Y/%m/%d', '%d/%m/%Y'):\n",
    "        try:\n",
    "            return datetime.datetime.strptime(text, fmt)\n",
    "        except ValueError:\n",
    "            pass\n",
    "    raise ValueError('no valid date format found')"
   ]
  },
  {
   "cell_type": "code",
   "execution_count": 16,
   "metadata": {},
   "outputs": [
    {
     "name": "stdout",
     "output_type": "stream",
     "text": [
      "['Monday', 'Tuesday', 'Wednesday', 'Thursday', 'Friday', 'Saturday', 'Sunday', nan, 'Sat', 'Fri', 'Thu', 'Tuesday ', 'Wendnesday', 'Wed', 'Thur']\n"
     ]
    }
   ],
   "source": [
    "# Identifying the unique entries\n",
    "print(list(filtered_dataset.DayOfWeek.unique()))"
   ]
  },
  {
   "cell_type": "code",
   "execution_count": 17,
   "metadata": {},
   "outputs": [
    {
     "name": "stdout",
     "output_type": "stream",
     "text": [
      "['Monday', 'Tuesday', 'Wednesday', 'Thursday', 'Friday', 'Saturday', 'Sunday']\n"
     ]
    }
   ],
   "source": [
    "# Most of these entries where easily fixable as I only needed \n",
    "# to replace their Abbriviation to the full word\n",
    "filtered_dataset.loc[filtered_dataset.DayOfWeek == 'Sat', 'DayOfWeek'] = 'Saturday'\n",
    "filtered_dataset.loc[filtered_dataset.DayOfWeek == 'Fri', 'DayOfWeek'] = 'Friday'\n",
    "filtered_dataset.loc[filtered_dataset.DayOfWeek == 'Thu', 'DayOfWeek'] = 'Thursday'\n",
    "filtered_dataset.loc[filtered_dataset.DayOfWeek == 'Tuesday ', 'DayOfWeek'] = 'Tuesday'\n",
    "filtered_dataset.loc[filtered_dataset.DayOfWeek == 'Wendnesday', 'DayOfWeek'] = 'Wednesday'\n",
    "filtered_dataset.loc[filtered_dataset.DayOfWeek == 'Wed', 'DayOfWeek'] = 'Wednesday'\n",
    "filtered_dataset.loc[filtered_dataset.DayOfWeek == 'Thur', 'DayOfWeek'] = 'Thursday'\n",
    "\n",
    "# Handling the nan values\n",
    "# Storing their indexes in a list\n",
    "list_nan = filtered_dataset[filtered_dataset['DayOfWeek'].isna()].index.tolist()\n",
    "\n",
    "# Iterating through the indexes\n",
    "for i in list_nan:\n",
    "    index_startDate = filtered_dataset.loc[i]['StartDate']\n",
    "    # Using the function to create a datetime object using the appopriate format\n",
    "    index_startDate = try_parsing_date(index_startDate)\n",
    "    # Using their start date to update their field to the correct one    \n",
    "    filtered_dataset.loc[i, 'DayOfWeek'] = index_startDate.strftime('%A')\n",
    "\n",
    "# After fixing the invalid entries we now have these unique values for DayOfWeek\n",
    "print(list(filtered_dataset.DayOfWeek.unique()))"
   ]
  },
  {
   "cell_type": "markdown",
   "metadata": {},
   "source": [
    "## Fixing any Start Date format issues"
   ]
  },
  {
   "cell_type": "code",
   "execution_count": 18,
   "metadata": {},
   "outputs": [
    {
     "name": "stdout",
     "output_type": "stream",
     "text": [
      "Empty DataFrame\n",
      "Columns: [PrimaryActivityCode, SecondaryActivityCode, DescriptiveLabel, StartDate, UniBathWeekNo, DayOfWeek, StartTime, EndTime, DurationMins, EnjoymentScore]\n",
      "Index: []\n",
      "Empty DataFrame\n",
      "Columns: [PrimaryActivityCode, SecondaryActivityCode, DescriptiveLabel, StartDate, UniBathWeekNo, DayOfWeek, StartTime, EndTime, DurationMins, EnjoymentScore]\n",
      "Index: []\n",
      "Empty DataFrame\n",
      "Columns: [PrimaryActivityCode, SecondaryActivityCode, DescriptiveLabel, StartDate, UniBathWeekNo, DayOfWeek, StartTime, EndTime, DurationMins, EnjoymentScore]\n",
      "Index: []\n"
     ]
    }
   ],
   "source": [
    "# Iterating through the start date entries I had observed that they had differences \n",
    "# in their formats but there were also some nan entries.\n",
    "# In order to fill these nan values I first checked to see if there was a \n",
    "# UniBathWeekNo entry and a DayOfWeek entry which I could then use to identify and fill in the corresponding date\n",
    "\n",
    "# First I checked to see if any rows had all 3 missing entries (StartDate, UniBathWeekNo, DayOfWeek) \n",
    "# which there were none\n",
    "print(filtered_dataset[filtered_dataset[['StartDate', 'UniBathWeekNo', 'DayOfWeek']].isnull().all(axis=1)])\n",
    "\n",
    "# Then checked to see if the rows with nan for startdate had both of the other 2 fields filled\n",
    "print(filtered_dataset[filtered_dataset[['StartDate', 'UniBathWeekNo']].isnull().all(axis=1)])\n",
    "print(filtered_dataset[filtered_dataset[['StartDate', 'DayOfWeek']].isnull().all(axis=1)])\n",
    "\n",
    "# Since the records with missing StartDates had both UniBathWeekNo and DayOfWeek\n",
    "# I could then use them to identify and fill in the appopriate start date"
   ]
  },
  {
   "cell_type": "code",
   "execution_count": 19,
   "metadata": {},
   "outputs": [],
   "source": [
    "# https://www.semicolonworld.com/question/58576/how-to-format-date-string-via-multiple-formats-in-python\n",
    "def try_parsing_date(text):\n",
    "    # Function to help identify the appopriate format from the given string\n",
    "    for fmt in ('%Y-%m-%d', '%d/%m/%Y', '%d/%m/%y', '%Y-%d-%m', '%Y/%m/%d', '%d-%m-%Y', '%d-%m-%y'):\n",
    "        try:\n",
    "            return datetime.datetime.strptime(text, fmt)\n",
    "        except ValueError:\n",
    "            pass\n",
    "    raise ValueError('no valid date format found')"
   ]
  },
  {
   "cell_type": "code",
   "execution_count": 20,
   "metadata": {},
   "outputs": [],
   "source": [
    "# Changing temporarily the value for nan entries\n",
    "filtered_dataset.loc[(filtered_dataset['StartDate']).isnull(), 'StartDate'] = '--'\n",
    "\n",
    "# Storing indexes with invalid entries\n",
    "indexes_to_drop = []\n",
    "\n",
    "# Iterating through all of the rows in the dataset\n",
    "for i in range(filtered_dataset.shape[0]):\n",
    "    if filtered_dataset.iloc[i]['StartDate'] != '--':\n",
    "        \n",
    "        # Filtering dates that are not of the year 2021\n",
    "        if try_parsing_date(filtered_dataset.iloc[i]['StartDate']).strftime('%y') == '21':\n",
    "            \n",
    "            # Updating the field with the appropriately formatted StartDate\n",
    "            filtered_dataset.loc[i, 'StartDate'] = try_parsing_date(filtered_dataset.iloc[i]['StartDate']).strftime('%d/%m/%y')\n",
    "        else:\n",
    "            indexes_to_drop.append(i)\n",
    "\n",
    "# Dropping the invalid entries\n",
    "filtered_dataset.drop(filtered_dataset.index[indexes_to_drop], axis=0, inplace=True)\n",
    "# Resetting the index\n",
    "filtered_dataset.reset_index(drop=True, inplace=True)"
   ]
  },
  {
   "cell_type": "code",
   "execution_count": 21,
   "metadata": {
    "scrolled": true
   },
   "outputs": [],
   "source": [
    "def getDatefromBathWeek_and_DayOfWeek(UniBathWeekNo, DayOfWeek):\n",
    "    # Function that uses the UniBathWeekNo and DayOfWeek to find the corresponding StartDate\n",
    "    \n",
    "    days = ['Monday', 'Tuesday', 'Wednesday', 'Thursday', 'Friday', 'Saturday', 'Sunday']\n",
    "    # Finding the delta from monday from the index of the DayOfWeek in the list\n",
    "    delta = days.index(DayOfWeek)\n",
    "        \n",
    "    if UniBathWeekNo == 19:\n",
    "        monday = datetime.datetime(2021, 2, 1)\n",
    "    elif UniBathWeekNo == 20:\n",
    "        monday = datetime.datetime(2021, 2, 8)\n",
    "    elif UniBathWeekNo == 21:\n",
    "        monday = datetime.datetime(2021, 2, 15)\n",
    "    elif UniBathWeekNo == 22:\n",
    "        monday = datetime.datetime(2021, 2, 22)\n",
    "    elif UniBathWeekNo == 23:\n",
    "        monday = datetime.datetime(2021, 3, 1)\n",
    "    elif UniBathWeekNo == 24:\n",
    "        monday = datetime.datetime(2021, 3, 8)\n",
    "    elif UniBathWeekNo == 25:\n",
    "        monday = datetime.datetime(2021, 3, 15)\n",
    "    elif UniBathWeekNo == 26:\n",
    "        monday = datetime.datetime(2021, 3, 22)\n",
    "    elif UniBathWeekNo == 27:\n",
    "        monday = datetime.datetime(2021, 3, 29)\n",
    "    elif UniBathWeekNo == 28:\n",
    "        monday = datetime.datetime(2021, 4, 5)\n",
    "    elif UniBathWeekNo == 29:\n",
    "        monday = datetime.datetime(2021, 4, 12)\n",
    "    elif UniBathWeekNo == 30:\n",
    "        monday = datetime.datetime(2021, 4, 19)\n",
    "    elif UniBathWeekNo == 31:\n",
    "        monday = datetime.datetime(2021, 4, 26)\n",
    "    elif UniBathWeekNo == 32:\n",
    "        monday = datetime.datetime(2021, 5, 3)\n",
    "        \n",
    "    time_delta = datetime.timedelta(days=delta)\n",
    "    # Adding this delta to Monday's date on its corresponding UniBathWeekNo.\n",
    "    # Then formatting it as before\n",
    "    StartDate = (monday + time_delta).strftime('%d/%m/%y')\n",
    "    \n",
    "    return StartDate\n",
    "    "
   ]
  },
  {
   "cell_type": "code",
   "execution_count": 22,
   "metadata": {},
   "outputs": [],
   "source": [
    "# Using the above function to fill in the null values with their StartDates\n",
    "list_empty = filtered_dataset.loc[filtered_dataset['StartDate'] == '--'].index.tolist()\n",
    "\n",
    "for i in list_empty:\n",
    "    # Retrieving the 2 values needed\n",
    "    UniBathWeekNo = filtered_dataset.iloc[i]['UniBathWeekNo']\n",
    "    DayOfWeek = filtered_dataset.iloc[i]['DayOfWeek']\n",
    "    \n",
    "    # Retrieving the StartDate\n",
    "    StartDate = getDatefromBathWeek_and_DayOfWeek(UniBathWeekNo, DayOfWeek)\n",
    "    # Updating the field\n",
    "    filtered_dataset.loc[i, 'StartDate'] = StartDate\n",
    "    "
   ]
  },
  {
   "cell_type": "markdown",
   "metadata": {},
   "source": [
    "## Fixing StartTime and EndTime format issues\n",
    "\n",
    "Iterating through the start time values I had observe that the format of some also contained seconds or had times not rounded to the closes 15 minute interval."
   ]
  },
  {
   "cell_type": "code",
   "execution_count": 23,
   "metadata": {},
   "outputs": [],
   "source": [
    "# Removing rows that have null values the StartTime column\n",
    "list_nan = filtered_dataset[filtered_dataset['StartTime'].isna()].index.tolist()\n",
    "\n",
    "# Dropping the rows with empty StartTime\n",
    "filtered_dataset.drop(filtered_dataset.index[list_nan], axis=0, inplace=True)\n",
    "# Resetting the index\n",
    "filtered_dataset.reset_index(drop=True, inplace=True)\n",
    "\n",
    "# Removing rows that have null values the EndTime column\n",
    "list_nan = filtered_dataset[filtered_dataset['EndTime'].isna()].index.tolist()\n",
    "\n",
    "# Dropping the rows with empty EndTime\n",
    "filtered_dataset.drop(filtered_dataset.index[list_nan], axis=0, inplace=True)\n",
    "# Resetting the index\n",
    "filtered_dataset.reset_index(drop=True, inplace=True)"
   ]
  },
  {
   "cell_type": "code",
   "execution_count": 24,
   "metadata": {},
   "outputs": [],
   "source": [
    "# https://www.semicolonworld.com/question/58576/how-to-format-date-string-via-multiple-formats-in-python\n",
    "def try_parsing_date(text):\n",
    "    # The same function but using formats only for hours minutes and seconds\n",
    "    for fmt in ('%H:%M', '%H:%M:%S', '%-H:%M', '%-H:%M:%S'):\n",
    "        try:\n",
    "            return datetime.datetime.strptime(text, fmt)\n",
    "        except ValueError:\n",
    "            pass\n",
    "    raise ValueError('no valid date format found')"
   ]
  },
  {
   "cell_type": "code",
   "execution_count": 25,
   "metadata": {},
   "outputs": [],
   "source": [
    "# Going through each row of the dataset\n",
    "for i in range(filtered_dataset.shape[0]):\n",
    "    \n",
    "    hour_delta = 0\n",
    "    \n",
    "    # Getting the StartTime datetime object\n",
    "    start_time_formatted = try_parsing_date(filtered_dataset.iloc[i]['StartTime'])\n",
    "    \n",
    "    # Using the correct format time values to round to the nearest 15 minute interval\n",
    "    minute = start_time_formatted.strftime('%M')\n",
    "    rounded_minute = int(np.ceil(int(minute) / 15) * 15)\n",
    "    \n",
    "    # Correcting for hour after rounding up to 60 minutes\n",
    "    if rounded_minute == 60:\n",
    "        rounded_minute = 0\n",
    "        hour_delta = 1\n",
    "    \n",
    "    # Updating with the appropriate hour and minute\n",
    "    start_time_formatted = start_time_formatted + datetime.timedelta(hours=hour_delta)\n",
    "    start_time_formatted = start_time_formatted.replace(minute=rounded_minute)    \n",
    "    \n",
    "    # Updating the field with the correctly formatted and rounded StartTime\n",
    "    filtered_dataset.loc[i, 'StartTime'] = start_time_formatted.strftime('%H:%M')\n",
    "# ------------------------------------------------------------------------------- #\n",
    "    # Same methods as before but for the EndTime fields!\n",
    "\n",
    "    hour_delta = 0\n",
    "    \n",
    "    end_time_formatted = try_parsing_date(filtered_dataset.iloc[i]['EndTime'])\n",
    "    \n",
    "    minute = end_time_formatted.strftime('%M')\n",
    "    rounded_minute = int(np.ceil(int(minute) / 15) * 15)\n",
    "    \n",
    "    if rounded_minute == 60:\n",
    "        rounded_minute = 0\n",
    "        hour_delta = 1\n",
    "            \n",
    "    end_time_formatted = end_time_formatted + datetime.timedelta(hours=hour_delta)\n",
    "    end_time_formatted = end_time_formatted.replace(minute=rounded_minute) \n",
    "    \n",
    "    filtered_dataset.loc[i, 'EndTime'] = end_time_formatted.strftime('%H:%M')"
   ]
  },
  {
   "cell_type": "markdown",
   "metadata": {},
   "source": [
    "## Checking for duration issues"
   ]
  },
  {
   "cell_type": "code",
   "execution_count": 26,
   "metadata": {},
   "outputs": [
    {
     "name": "stdout",
     "output_type": "stream",
     "text": [
      "[420.0, 29.0, 45.0, 150.0, 60.0, 59.0, 30.0, 149.0, 90.0, 119.0, 120.0, 480.0, 240.0, 450.0, 15.0, 135.0, 300.0, 195.0, 600.0, 75.0, 660.0, 585.0, 540.0, 180.0, 1260.0, 1200.0, 690.0, 270.0, 750.0, 105.0, 780.0, 525.0, 465.0, 165.0, 555.0, 35.0, 93.0, 576.0, 61.0, 24.0, 108.0, 85.0, 54.0, 160.0, 73.0, 78.0, 219.0, 44.0, 527.0, 615.0, 210.0, 480000.0, 75000.0, 30000.0, 240000.0, 15000.0, 180000.0, 60000.0, 120000.0, 570000.0, 150000.0, 225000.0, 510000.0, 45000.0, 255000.0, 285.0, 360.0, 255.0, 89.0, 570.0, 315.0, 435.0, 510.0, 390.0, 18.0, 33.0, 22.0, 50.0, 100.0, 80.0, 488.0, 20.0, 27.0, 65.0, 140.0, 70.0, 492.0, 88.0, 145.0, 67.0, 32.0, 630.0, nan, 225.0, 675.0, 74.0, 254.0, 464.0, 239.0, 509.0, 1425.0, 405.0, 330.0, 40.0, 25.0, 59.98333333333333, 115.0, 135.00000000000003, 29.98333333333333, 10.0, 44.98333333333333, 495.0, 59.999999999999936, 75.00000000000007, 29.999999999999968, 60.00000000000011, 29.99999999999989, 14.999999999999947, 165.00000000000006, 240.00000000000003, 119.99999999999996, 30.000000000000053, 120.00000000000006, 1230.0, 900.0, 375.0, 49.0, 455.0, 164.0, 59.98333333, 0.0, 345.0, 53.0, 517.0, 36.0, 66.0, 56.0, 23.0, 17.0, 43.0, 142.0, 47.0, 42.0, 28.0, 12.0, 519.0, 41.0, 39.0, 104.0, 1361.0, 31.0, 48.0, 486.0, 34.0, 16.0, 64.0, 520.0, 14.0, 55.0]\n"
     ]
    }
   ],
   "source": [
    "print(list(filtered_dataset.DurationMins.unique()))\n",
    "\n",
    "# We these Unique results we can observe that this column is completely messed up...\n",
    "# Instead of fixing each one individually I instead went through all of the rows \n",
    "# and updated the durationMins field with their their StartTime and EndTime values"
   ]
  },
  {
   "cell_type": "code",
   "execution_count": 27,
   "metadata": {},
   "outputs": [],
   "source": [
    "for i in range(filtered_dataset.shape[0]):\n",
    "    \n",
    "    # Retrieving StartDate, StartTime and EndTime values\n",
    "    StartDate = datetime.datetime.strptime(filtered_dataset.iloc[i]['StartDate'], '%d/%m/%y')\n",
    "    StartTime = datetime.datetime.strptime(filtered_dataset.iloc[i]['StartTime'], '%H:%M').time()\n",
    "    EndTime = datetime.datetime.strptime(filtered_dataset.iloc[i]['EndTime'], '%H:%M').time()\n",
    "    \n",
    "    # Combining date with times\n",
    "    dateStartTime = datetime.datetime.combine(StartDate, StartTime)\n",
    "    dateEndTime = datetime.datetime.combine(StartDate, EndTime)\n",
    "    \n",
    "    # Retrieving duration in minutes\n",
    "    DurationMins = int((dateEndTime - dateStartTime).total_seconds() / 60)\n",
    "    \n",
    "    # If the duration is negative we fix it by adding as as many minutes as there are in a day\n",
    "    # This is caused due to activities continuing to the next day\n",
    "    if DurationMins < 0:\n",
    "        DurationMins += 1440\n",
    "\n",
    "    # Then updating the field with the correctly calculated value\n",
    "    filtered_dataset.loc[i, 'DurationMins'] = DurationMins"
   ]
  },
  {
   "cell_type": "markdown",
   "metadata": {},
   "source": [
    "## Checking for Enjoyment Score issues"
   ]
  },
  {
   "cell_type": "code",
   "execution_count": 28,
   "metadata": {},
   "outputs": [
    {
     "data": {
      "text/plain": [
       "count    2368.000000\n",
       "mean        0.712416\n",
       "std         1.142037\n",
       "min        -2.000000\n",
       "25%         0.000000\n",
       "50%         1.000000\n",
       "75%         2.000000\n",
       "max         2.000000\n",
       "Name: EnjoymentScore, dtype: float64"
      ]
     },
     "execution_count": 28,
     "metadata": {},
     "output_type": "execute_result"
    }
   ],
   "source": [
    "filtered_dataset['EnjoymentScore'].describe()\n",
    "\n",
    "# We can observe from the following field that the enjoyment score has a \n",
    "# minimum value of -2 and a maximum value of 2. This means that no invalid \n",
    "# outliers are present within this field, thus no further processing for this column is needed."
   ]
  },
  {
   "cell_type": "markdown",
   "metadata": {},
   "source": [
    "## Evaluation"
   ]
  },
  {
   "cell_type": "code",
   "execution_count": 29,
   "metadata": {},
   "outputs": [
    {
     "data": {
      "text/html": [
       "<div>\n",
       "<style scoped>\n",
       "    .dataframe tbody tr th:only-of-type {\n",
       "        vertical-align: middle;\n",
       "    }\n",
       "\n",
       "    .dataframe tbody tr th {\n",
       "        vertical-align: top;\n",
       "    }\n",
       "\n",
       "    .dataframe thead th {\n",
       "        text-align: right;\n",
       "    }\n",
       "</style>\n",
       "<table border=\"1\" class=\"dataframe\">\n",
       "  <thead>\n",
       "    <tr style=\"text-align: right;\">\n",
       "      <th></th>\n",
       "      <th>PrimaryActivityCode</th>\n",
       "      <th>SecondaryActivityCode</th>\n",
       "      <th>DescriptiveLabel</th>\n",
       "      <th>StartDate</th>\n",
       "      <th>UniBathWeekNo</th>\n",
       "      <th>DayOfWeek</th>\n",
       "      <th>StartTime</th>\n",
       "      <th>EndTime</th>\n",
       "      <th>DurationMins</th>\n",
       "      <th>EnjoymentScore</th>\n",
       "    </tr>\n",
       "  </thead>\n",
       "  <tbody>\n",
       "    <tr>\n",
       "      <th>0</th>\n",
       "      <td>S801</td>\n",
       "      <td></td>\n",
       "      <td>Sleeping</td>\n",
       "      <td>08/03/21</td>\n",
       "      <td>24.0</td>\n",
       "      <td>Monday</td>\n",
       "      <td>00:00</td>\n",
       "      <td>07:00</td>\n",
       "      <td>420.0</td>\n",
       "      <td>2.0</td>\n",
       "    </tr>\n",
       "    <tr>\n",
       "      <th>1</th>\n",
       "      <td>O733</td>\n",
       "      <td></td>\n",
       "      <td>Getting ready</td>\n",
       "      <td>08/03/21</td>\n",
       "      <td>24.0</td>\n",
       "      <td>Monday</td>\n",
       "      <td>07:00</td>\n",
       "      <td>07:30</td>\n",
       "      <td>30.0</td>\n",
       "      <td>1.0</td>\n",
       "    </tr>\n",
       "    <tr>\n",
       "      <th>2</th>\n",
       "      <td>X893</td>\n",
       "      <td>UD415</td>\n",
       "      <td>Exercising while listening music</td>\n",
       "      <td>08/03/21</td>\n",
       "      <td>24.0</td>\n",
       "      <td>Monday</td>\n",
       "      <td>07:30</td>\n",
       "      <td>08:15</td>\n",
       "      <td>45.0</td>\n",
       "      <td>2.0</td>\n",
       "    </tr>\n",
       "    <tr>\n",
       "      <th>3</th>\n",
       "      <td>CW982</td>\n",
       "      <td></td>\n",
       "      <td>ADS Lab 3</td>\n",
       "      <td>08/03/21</td>\n",
       "      <td>24.0</td>\n",
       "      <td>Monday</td>\n",
       "      <td>08:45</td>\n",
       "      <td>11:15</td>\n",
       "      <td>150.0</td>\n",
       "      <td>1.0</td>\n",
       "    </tr>\n",
       "    <tr>\n",
       "      <th>4</th>\n",
       "      <td>H179</td>\n",
       "      <td></td>\n",
       "      <td>Room and desk cleaning</td>\n",
       "      <td>08/03/21</td>\n",
       "      <td>24.0</td>\n",
       "      <td>Monday</td>\n",
       "      <td>11:15</td>\n",
       "      <td>11:45</td>\n",
       "      <td>30.0</td>\n",
       "      <td>-1.0</td>\n",
       "    </tr>\n",
       "  </tbody>\n",
       "</table>\n",
       "</div>"
      ],
      "text/plain": [
       "  PrimaryActivityCode SecondaryActivityCode                  DescriptiveLabel  \\\n",
       "0                S801                                                Sleeping   \n",
       "1                O733                                           Getting ready   \n",
       "2                X893                 UD415  Exercising while listening music   \n",
       "3               CW982                                               ADS Lab 3   \n",
       "4                H179                                  Room and desk cleaning   \n",
       "\n",
       "  StartDate  UniBathWeekNo DayOfWeek StartTime EndTime  DurationMins  \\\n",
       "0  08/03/21           24.0    Monday     00:00   07:00         420.0   \n",
       "1  08/03/21           24.0    Monday     07:00   07:30          30.0   \n",
       "2  08/03/21           24.0    Monday     07:30   08:15          45.0   \n",
       "3  08/03/21           24.0    Monday     08:45   11:15         150.0   \n",
       "4  08/03/21           24.0    Monday     11:15   11:45          30.0   \n",
       "\n",
       "   EnjoymentScore  \n",
       "0             2.0  \n",
       "1             1.0  \n",
       "2             2.0  \n",
       "3             1.0  \n",
       "4            -1.0  "
      ]
     },
     "execution_count": 29,
     "metadata": {},
     "output_type": "execute_result"
    }
   ],
   "source": [
    "filtered_dataset.head()"
   ]
  },
  {
   "cell_type": "code",
   "execution_count": 30,
   "metadata": {},
   "outputs": [
    {
     "data": {
      "text/html": [
       "<div>\n",
       "<style scoped>\n",
       "    .dataframe tbody tr th:only-of-type {\n",
       "        vertical-align: middle;\n",
       "    }\n",
       "\n",
       "    .dataframe tbody tr th {\n",
       "        vertical-align: top;\n",
       "    }\n",
       "\n",
       "    .dataframe thead th {\n",
       "        text-align: right;\n",
       "    }\n",
       "</style>\n",
       "<table border=\"1\" class=\"dataframe\">\n",
       "  <thead>\n",
       "    <tr style=\"text-align: right;\">\n",
       "      <th></th>\n",
       "      <th>UniBathWeekNo</th>\n",
       "      <th>DurationMins</th>\n",
       "      <th>EnjoymentScore</th>\n",
       "    </tr>\n",
       "  </thead>\n",
       "  <tbody>\n",
       "    <tr>\n",
       "      <th>count</th>\n",
       "      <td>2683.000000</td>\n",
       "      <td>2683.000000</td>\n",
       "      <td>2368.000000</td>\n",
       "    </tr>\n",
       "    <tr>\n",
       "      <th>mean</th>\n",
       "      <td>23.337309</td>\n",
       "      <td>114.314201</td>\n",
       "      <td>0.712416</td>\n",
       "    </tr>\n",
       "    <tr>\n",
       "      <th>std</th>\n",
       "      <td>0.778566</td>\n",
       "      <td>142.043305</td>\n",
       "      <td>1.142037</td>\n",
       "    </tr>\n",
       "    <tr>\n",
       "      <th>min</th>\n",
       "      <td>19.000000</td>\n",
       "      <td>0.000000</td>\n",
       "      <td>-2.000000</td>\n",
       "    </tr>\n",
       "    <tr>\n",
       "      <th>25%</th>\n",
       "      <td>23.000000</td>\n",
       "      <td>30.000000</td>\n",
       "      <td>0.000000</td>\n",
       "    </tr>\n",
       "    <tr>\n",
       "      <th>50%</th>\n",
       "      <td>23.000000</td>\n",
       "      <td>60.000000</td>\n",
       "      <td>1.000000</td>\n",
       "    </tr>\n",
       "    <tr>\n",
       "      <th>75%</th>\n",
       "      <td>24.000000</td>\n",
       "      <td>120.000000</td>\n",
       "      <td>2.000000</td>\n",
       "    </tr>\n",
       "    <tr>\n",
       "      <th>max</th>\n",
       "      <td>25.000000</td>\n",
       "      <td>1425.000000</td>\n",
       "      <td>2.000000</td>\n",
       "    </tr>\n",
       "  </tbody>\n",
       "</table>\n",
       "</div>"
      ],
      "text/plain": [
       "       UniBathWeekNo  DurationMins  EnjoymentScore\n",
       "count    2683.000000   2683.000000     2368.000000\n",
       "mean       23.337309    114.314201        0.712416\n",
       "std         0.778566    142.043305        1.142037\n",
       "min        19.000000      0.000000       -2.000000\n",
       "25%        23.000000     30.000000        0.000000\n",
       "50%        23.000000     60.000000        1.000000\n",
       "75%        24.000000    120.000000        2.000000\n",
       "max        25.000000   1425.000000        2.000000"
      ]
     },
     "execution_count": 30,
     "metadata": {},
     "output_type": "execute_result"
    }
   ],
   "source": [
    "filtered_dataset.describe()"
   ]
  },
  {
   "cell_type": "markdown",
   "metadata": {},
   "source": [
    "# Questions about the data"
   ]
  },
  {
   "cell_type": "markdown",
   "metadata": {},
   "source": [
    "After processing I now have a complete dataset of 2683 entries that contains information on the daily life of Applied Data Science students. Some questions that I have and can use this dataset with appropriate analysis and visualisation techniques to answer are:\n",
    "\n",
    "- At what times do people go to sleep?\n",
    "- At what times to they wake up?\n",
    "- When is their studying time? Both Starting time and end time?\n",
    "- What activities do they find enjoyable?\n",
    "- Activity duration?"
   ]
  },
  {
   "cell_type": "markdown",
   "metadata": {},
   "source": [
    "# Analysis"
   ]
  },
  {
   "cell_type": "markdown",
   "metadata": {},
   "source": [
    "### Question\n",
    "- At what times do people go to sleep?\n",
    "\n",
    "### Process and Hypotheses\n",
    "Filtering for only activies where the Primary Activity was sleep, we can identify the distribution of when students went to sleep. This can be observed from the StartTime field. I expect the distribution to be around midnight as it is a reasonable time for anyone to go to sleep.\n",
    "\n",
    "### Result\n",
    "From the following figure we can observe that distribution mostly lies from 22:00 to 4:45 with the highest peak at midnight which was also previously hypothesized. The peak at 00:00 can be a bit misleading and the reason is described from the results of the next question."
   ]
  },
  {
   "cell_type": "code",
   "execution_count": 31,
   "metadata": {},
   "outputs": [
    {
     "data": {
      "image/png": "[encoded data removed]",
      "text/plain": [
       "<Figure size 1440x432 with 1 Axes>"
      ]
     },
     "metadata": {
      "needs_background": "light"
     },
     "output_type": "display_data"
    }
   ],
   "source": [
    "sleep_df = filtered_dataset.loc[filtered_dataset['PrimaryActivityCode'] == 'S801']\n",
    "\n",
    "plt.figure(figsize=(20,6))\n",
    "plt.xticks(rotation=-45)\n",
    "ax = sns.histplot(data=sleep_df.sort_values(by=['StartTime']), x='StartTime', kde=True, color='blue', alpha=0.4)\n",
    "plt.title('Going to sleep times', fontsize=20)\n",
    "plt.ylabel('Frequency', fontsize=14)\n",
    "plt.xlabel('Start Time', fontsize=14)\n",
    "ax.spines['top'].set_visible(False)\n",
    "ax.spines['right'].set_visible(False)\n",
    "plt.show()"
   ]
  },
  {
   "cell_type": "markdown",
   "metadata": {},
   "source": [
    "### Question\n",
    "- At what times to they wake up?\n",
    "\n",
    "### Process and Hypotheses\n",
    "Using the filtered activities I can now observe their EndTime and find the distribution of when people usually wake up. Assuming as before that people went to sleep at around midnight I would expect them to wake up 7-9 hours later.\n",
    "\n",
    "### Result\n",
    "As shown from the following figure the majority distribution of times when the students wake up begins from 06:00 up to 11:00. There are peaks at other hours as peoples sleep pattern can greatly vary but the reason for the peak at 00:00 I have concluded that it is due to how the time diary recording was structured. Since people recorded days midnight to midnight they probably entered 2 activities for 1 days worth of sleep eg.(from 22:00 to 00:00 and from 00:00 to 07:00)"
   ]
  },
  {
   "cell_type": "code",
   "execution_count": 32,
   "metadata": {},
   "outputs": [
    {
     "data": {
      "image/png": "[encoded data removed]",
      "text/plain": [
       "<Figure size 1440x432 with 1 Axes>"
      ]
     },
     "metadata": {
      "needs_background": "light"
     },
     "output_type": "display_data"
    }
   ],
   "source": [
    "plt.figure(figsize=(20,6))\n",
    "plt.xticks(rotation=-45)\n",
    "ax = sns.histplot(data=sleep_df.sort_values(by=['EndTime']), x='EndTime', kde=True, color='orange', alpha=0.4)\n",
    "plt.title('Wake up times', fontsize=20)\n",
    "plt.ylabel('Frequency', fontsize=14)\n",
    "plt.xlabel('End Time', fontsize=14)\n",
    "ax.spines['top'].set_visible(False)\n",
    "ax.spines['right'].set_visible(False)\n",
    "plt.show()"
   ]
  },
  {
   "cell_type": "markdown",
   "metadata": {},
   "source": [
    "### Question\n",
    "- When is their studying time? Both Starting time and end time?\n",
    "\n",
    "### Process and Hypotheses\n",
    "In order to identify the common times I filtered the activities using the codes of 'Education / Lectures' and 'Coursework'. Using their StartTime and EndTime I should be able to observe the distribution of studying times between the students. I expect these times to vary as everyone can have different preferences. \n",
    "\n",
    "### Result\n",
    "These times are seen to be mostly spread throughout the day except certain times like 10:30 and 14:30 where we have multiple entries for students' Starting Time."
   ]
  },
  {
   "cell_type": "code",
   "execution_count": 33,
   "metadata": {},
   "outputs": [
    {
     "data": {
      "image/png": "[encoded data removed]",
      "text/plain": [
       "<Figure size 1440x432 with 1 Axes>"
      ]
     },
     "metadata": {
      "needs_background": "light"
     },
     "output_type": "display_data"
    }
   ],
   "source": [
    "studying_df = filtered_dataset.loc[filtered_dataset.isin(['CW982', 'EL642']).any(axis=1)]\n",
    "\n",
    "plt.figure(figsize=(20,6))\n",
    "plt.xticks(rotation=-45)\n",
    "ax = sns.histplot(data=studying_df.sort_values(by=['StartTime']), x='StartTime', kde=True, color='green', alpha=0.4)\n",
    "plt.title('Studying start times', fontsize=20)\n",
    "plt.ylabel('Frequency', fontsize=14)\n",
    "plt.xlabel('Start Time', fontsize=14)\n",
    "ax.spines['top'].set_visible(False)\n",
    "ax.spines['right'].set_visible(False)\n",
    "plt.show()"
   ]
  },
  {
   "cell_type": "code",
   "execution_count": 34,
   "metadata": {},
   "outputs": [
    {
     "data": {
      "image/png": "[encoded data removed]",
      "text/plain": [
       "<Figure size 1440x432 with 1 Axes>"
      ]
     },
     "metadata": {
      "needs_background": "light"
     },
     "output_type": "display_data"
    }
   ],
   "source": [
    "plt.figure(figsize=(20,6))\n",
    "plt.xticks(rotation=-45)\n",
    "ax = sns.histplot(data=studying_df.sort_values(by=['EndTime']), x='EndTime', kde=True, color='red', alpha=0.4)\n",
    "plt.title('Studying End times', fontsize=20)\n",
    "plt.ylabel('Frequency', fontsize=14)\n",
    "plt.xlabel('End Time', fontsize=14)\n",
    "ax.spines['top'].set_visible(False)\n",
    "ax.spines['right'].set_visible(False)\n",
    "plt.show()"
   ]
  },
  {
   "cell_type": "markdown",
   "metadata": {},
   "source": [
    "### Question\n",
    "- What activities do they find enjoyable?\n",
    "\n",
    "### Process and Hypotheses\n",
    "Finding the Average EnjoymentScore for each activies would show the distribution of general enjoyment when doing certain tasks. It should show what are the most enjoyable and least enjoyable activities out of the bunch.\n",
    "\n",
    "### Result\n",
    "From the following figure I have observed that the 3 most common enjoyable activities where 'leisure', 'exercise' and 'sleep' and for the least enjoyable activity, it was 'housework', which I believe we can all relate!"
   ]
  },
  {
   "cell_type": "code",
   "execution_count": 35,
   "metadata": {},
   "outputs": [
    {
     "data": {
      "image/png": "[encoded data removed]",
      "text/plain": [
       "<Figure size 1440x432 with 1 Axes>"
      ]
     },
     "metadata": {
      "needs_background": "light"
     },
     "output_type": "display_data"
    }
   ],
   "source": [
    "plt.figure(figsize=(20,6))\n",
    "\n",
    "# https://gist.github.com/fomightez/bb5a9c727d93d1508187677b4d74d7c1\n",
    "result = filtered_dataset.groupby([\"PrimaryActivityCode\"])['EnjoymentScore'].aggregate(np.mean).reset_index().sort_values('EnjoymentScore', ascending = False)\n",
    "ax = sns.barplot(x='PrimaryActivityCode', y='EnjoymentScore', data=filtered_dataset, order=result['PrimaryActivityCode'], alpha=0.9, palette='RdYlGn_r')\n",
    "\n",
    "code_labels = [label.get_text()  for label in ax.get_xticklabels()]\n",
    "code_description_dict = {'ED145':'Eating / Drinking', 'EL642':'Education / Lectures', 'X893':'Exercise', 'H179':'Housework', 'L418':'Leisure', 'R523':'Reading', 'S801':'Sleep', 'T695':'Travelling', 'UD415':'Using Devices', 'PW101':'Paid Work', 'CW982':'Coursework', 'O733':'Other'}\n",
    "description_labels = [code_description_dict[label] for label in code_labels]\n",
    "\n",
    "plt.xticks(rotation=-45)\n",
    "ax.set_xticklabels(description_labels)\n",
    "plt.xlabel('')\n",
    "plt.ylabel('Enjoyment Score', fontsize=14)\n",
    "\n",
    "plt.title('Enjoyment per Activity', fontsize=20)\n",
    "ax.spines['top'].set_visible(False)\n",
    "ax.spines['right'].set_visible(False)\n",
    "plt.show()"
   ]
  },
  {
   "cell_type": "markdown",
   "metadata": {},
   "source": [
    "### Question\n",
    "- Activity Duration?\n",
    "\n",
    "### Process and Hypotheses\n",
    "Finding the average duration of minutes for each activity will show where students mostly spend their time. This kind of insight can hint where should people spend more or less time to better distribute their times amongst activities.\n",
    "\n",
    "### Result\n",
    "From the next figure it is obvious that sleep takes a significant chunch of a day's time with 'Paid Work' coming in second with 175 average duration and with 'Coursework' in 3rd with 134 average minute duration."
   ]
  },
  {
   "cell_type": "code",
   "execution_count": 36,
   "metadata": {},
   "outputs": [
    {
     "data": {
      "image/png": "[encoded data removed]",
      "text/plain": [
       "<Figure size 1440x432 with 1 Axes>"
      ]
     },
     "metadata": {
      "needs_background": "light"
     },
     "output_type": "display_data"
    }
   ],
   "source": [
    "plt.figure(figsize=(20,6))\n",
    "\n",
    "# https://gist.github.com/fomightez/bb5a9c727d93d1508187677b4d74d7c1\n",
    "result = filtered_dataset.groupby([\"PrimaryActivityCode\"])['DurationMins'].aggregate(np.mean).reset_index().sort_values('DurationMins', ascending = False)\n",
    "ax = sns.barplot(x='PrimaryActivityCode', y='DurationMins', data=filtered_dataset, order=result['PrimaryActivityCode'], alpha=0.5, palette='BuGn_r')\n",
    "\n",
    "# https://datavizpyr.com/how-to-annotate-bars-in-barplot-with-matplotlib-in-python/\n",
    "for p in ax.patches:\n",
    "    ax.annotate(format(p.get_height(), '.1f'), \n",
    "                   (p.get_x() + (1.5*p.get_width()) / 6., p.get_height()), \n",
    "                   ha = 'center', va = 'center', \n",
    "                   xytext = (0, 9), \n",
    "                   textcoords = 'offset points')\n",
    "    \n",
    "    \n",
    "code_labels = [label.get_text()  for label in ax.get_xticklabels()]\n",
    "code_description_dict = {'ED145':'Eating / Drinking', 'EL642':'Education / Lectures', 'X893':'Exercise', 'H179':'Housework', 'L418':'Leisure', 'R523':'Reading', 'S801':'Sleep', 'T695':'Travelling', 'UD415':'Using Devices', 'PW101':'Paid Work', 'CW982':'Coursework', 'O733':'Other'}\n",
    "description_labels = [code_description_dict[label] for label in code_labels]\n",
    "\n",
    "plt.xticks(rotation=-45)\n",
    "ax.set_xticklabels(description_labels)\n",
    "plt.xlabel('')\n",
    "plt.ylabel('Activity Duration (mins)', fontsize=14)\n",
    "plt.title('Our processed time diary dataset \\n Duration per Activity (minutes)', fontsize=20)\n",
    "ax.spines['top'].set_visible(False)\n",
    "ax.spines['right'].set_visible(False)\n",
    "plt.show()"
   ]
  },
  {
   "cell_type": "markdown",
   "metadata": {},
   "source": [
    "# Publicly available time diary dataset\n",
    "\n",
    "Accessing one of the links that was provided in the coursework pdf (https://www.kaggle.com/bls/american-time-use-survey) .Then going in the Acknowledgements section to access the original datasets. Finally, downloading the Activity summary file (ATUS 2003-2015 Activity summary file (zip)) from here https://www.bls.gov/tus/datafiles_0315.htm"
   ]
  },
  {
   "cell_type": "code",
   "execution_count": 37,
   "metadata": {},
   "outputs": [
    {
     "name": "stdout",
     "output_type": "stream",
     "text": [
      "(3347093, 29)\n"
     ]
    }
   ],
   "source": [
    "# Using the extracted .dat file I used pandas to read it to a dataframe\n",
    "data = pd.read_csv('atusact_0315.dat', sep=',')\n",
    "print(data.shape)"
   ]
  },
  {
   "cell_type": "code",
   "execution_count": 38,
   "metadata": {},
   "outputs": [
    {
     "data": {
      "text/html": [
       "<div>\n",
       "<style scoped>\n",
       "    .dataframe tbody tr th:only-of-type {\n",
       "        vertical-align: middle;\n",
       "    }\n",
       "\n",
       "    .dataframe tbody tr th {\n",
       "        vertical-align: top;\n",
       "    }\n",
       "\n",
       "    .dataframe thead th {\n",
       "        text-align: right;\n",
       "    }\n",
       "</style>\n",
       "<table border=\"1\" class=\"dataframe\">\n",
       "  <thead>\n",
       "    <tr style=\"text-align: right;\">\n",
       "      <th></th>\n",
       "      <th>TUCASEID</th>\n",
       "      <th>TUACTIVITY_N</th>\n",
       "      <th>TUACTDUR24</th>\n",
       "      <th>TUCC5</th>\n",
       "      <th>TUCC5B</th>\n",
       "      <th>TRTCCTOT_LN</th>\n",
       "      <th>TRTCC_LN</th>\n",
       "      <th>TRTCOC_LN</th>\n",
       "      <th>TUSTARTTIM</th>\n",
       "      <th>TUSTOPTIME</th>\n",
       "      <th>...</th>\n",
       "      <th>TRTONHH_LN</th>\n",
       "      <th>TRTOHH_LN</th>\n",
       "      <th>TRTHH_LN</th>\n",
       "      <th>TRTNOHH_LN</th>\n",
       "      <th>TEWHERE</th>\n",
       "      <th>TUCC7</th>\n",
       "      <th>TRWBELIG</th>\n",
       "      <th>TRTEC_LN</th>\n",
       "      <th>TUEC24</th>\n",
       "      <th>TUDURSTOP</th>\n",
       "    </tr>\n",
       "  </thead>\n",
       "  <tbody>\n",
       "    <tr>\n",
       "      <th>0</th>\n",
       "      <td>20030100013280</td>\n",
       "      <td>1</td>\n",
       "      <td>60</td>\n",
       "      <td>-1</td>\n",
       "      <td>-1</td>\n",
       "      <td>-1</td>\n",
       "      <td>-1</td>\n",
       "      <td>-1</td>\n",
       "      <td>04:00:00</td>\n",
       "      <td>05:00:00</td>\n",
       "      <td>...</td>\n",
       "      <td>-1</td>\n",
       "      <td>-1</td>\n",
       "      <td>-1</td>\n",
       "      <td>-1</td>\n",
       "      <td>9</td>\n",
       "      <td>-1</td>\n",
       "      <td>-1</td>\n",
       "      <td>-1</td>\n",
       "      <td>-1</td>\n",
       "      <td>-1</td>\n",
       "    </tr>\n",
       "    <tr>\n",
       "      <th>1</th>\n",
       "      <td>20030100013280</td>\n",
       "      <td>2</td>\n",
       "      <td>30</td>\n",
       "      <td>-1</td>\n",
       "      <td>-1</td>\n",
       "      <td>-1</td>\n",
       "      <td>-1</td>\n",
       "      <td>-1</td>\n",
       "      <td>05:00:00</td>\n",
       "      <td>05:30:00</td>\n",
       "      <td>...</td>\n",
       "      <td>-1</td>\n",
       "      <td>-1</td>\n",
       "      <td>-1</td>\n",
       "      <td>-1</td>\n",
       "      <td>-1</td>\n",
       "      <td>-1</td>\n",
       "      <td>-1</td>\n",
       "      <td>-1</td>\n",
       "      <td>-1</td>\n",
       "      <td>-1</td>\n",
       "    </tr>\n",
       "    <tr>\n",
       "      <th>2</th>\n",
       "      <td>20030100013280</td>\n",
       "      <td>3</td>\n",
       "      <td>600</td>\n",
       "      <td>-1</td>\n",
       "      <td>-1</td>\n",
       "      <td>-1</td>\n",
       "      <td>-1</td>\n",
       "      <td>-1</td>\n",
       "      <td>05:30:00</td>\n",
       "      <td>15:30:00</td>\n",
       "      <td>...</td>\n",
       "      <td>-1</td>\n",
       "      <td>-1</td>\n",
       "      <td>-1</td>\n",
       "      <td>-1</td>\n",
       "      <td>-1</td>\n",
       "      <td>-1</td>\n",
       "      <td>-1</td>\n",
       "      <td>-1</td>\n",
       "      <td>-1</td>\n",
       "      <td>-1</td>\n",
       "    </tr>\n",
       "    <tr>\n",
       "      <th>3</th>\n",
       "      <td>20030100013280</td>\n",
       "      <td>4</td>\n",
       "      <td>150</td>\n",
       "      <td>-1</td>\n",
       "      <td>-1</td>\n",
       "      <td>-1</td>\n",
       "      <td>-1</td>\n",
       "      <td>-1</td>\n",
       "      <td>15:30:00</td>\n",
       "      <td>18:00:00</td>\n",
       "      <td>...</td>\n",
       "      <td>-1</td>\n",
       "      <td>-1</td>\n",
       "      <td>-1</td>\n",
       "      <td>-1</td>\n",
       "      <td>1</td>\n",
       "      <td>-1</td>\n",
       "      <td>-1</td>\n",
       "      <td>-1</td>\n",
       "      <td>-1</td>\n",
       "      <td>-1</td>\n",
       "    </tr>\n",
       "    <tr>\n",
       "      <th>4</th>\n",
       "      <td>20030100013280</td>\n",
       "      <td>5</td>\n",
       "      <td>5</td>\n",
       "      <td>-1</td>\n",
       "      <td>-1</td>\n",
       "      <td>-1</td>\n",
       "      <td>-1</td>\n",
       "      <td>-1</td>\n",
       "      <td>18:00:00</td>\n",
       "      <td>18:05:00</td>\n",
       "      <td>...</td>\n",
       "      <td>-1</td>\n",
       "      <td>-1</td>\n",
       "      <td>-1</td>\n",
       "      <td>-1</td>\n",
       "      <td>1</td>\n",
       "      <td>-1</td>\n",
       "      <td>-1</td>\n",
       "      <td>-1</td>\n",
       "      <td>-1</td>\n",
       "      <td>-1</td>\n",
       "    </tr>\n",
       "  </tbody>\n",
       "</table>\n",
       "<p>5 rows × 29 columns</p>\n",
       "</div>"
      ],
      "text/plain": [
       "         TUCASEID  TUACTIVITY_N  TUACTDUR24  TUCC5  TUCC5B  TRTCCTOT_LN  \\\n",
       "0  20030100013280             1          60     -1      -1           -1   \n",
       "1  20030100013280             2          30     -1      -1           -1   \n",
       "2  20030100013280             3         600     -1      -1           -1   \n",
       "3  20030100013280             4         150     -1      -1           -1   \n",
       "4  20030100013280             5           5     -1      -1           -1   \n",
       "\n",
       "   TRTCC_LN  TRTCOC_LN TUSTARTTIM TUSTOPTIME  ...  TRTONHH_LN  TRTOHH_LN  \\\n",
       "0        -1         -1   04:00:00   05:00:00  ...          -1         -1   \n",
       "1        -1         -1   05:00:00   05:30:00  ...          -1         -1   \n",
       "2        -1         -1   05:30:00   15:30:00  ...          -1         -1   \n",
       "3        -1         -1   15:30:00   18:00:00  ...          -1         -1   \n",
       "4        -1         -1   18:00:00   18:05:00  ...          -1         -1   \n",
       "\n",
       "   TRTHH_LN  TRTNOHH_LN  TEWHERE  TUCC7  TRWBELIG  TRTEC_LN  TUEC24  TUDURSTOP  \n",
       "0        -1          -1        9     -1        -1        -1      -1         -1  \n",
       "1        -1          -1       -1     -1        -1        -1      -1         -1  \n",
       "2        -1          -1       -1     -1        -1        -1      -1         -1  \n",
       "3        -1          -1        1     -1        -1        -1      -1         -1  \n",
       "4        -1          -1        1     -1        -1        -1      -1         -1  \n",
       "\n",
       "[5 rows x 29 columns]"
      ]
     },
     "execution_count": 38,
     "metadata": {},
     "output_type": "execute_result"
    }
   ],
   "source": [
    "data.head()"
   ]
  },
  {
   "cell_type": "markdown",
   "metadata": {},
   "source": [
    "Going through the structure of the Dataset I identified that the column <b>TRCODEP</b> holds the activity IDs which their description can be identified from the Lexicon https://www.bls.gov/tus/lexiconnoex0315.pdf . And also the <b>TUACTDUR</b> holds the pre-calculated activity duration."
   ]
  },
  {
   "cell_type": "code",
   "execution_count": 39,
   "metadata": {},
   "outputs": [],
   "source": [
    "filtered_data_columns = ['TUCASEID','TUACTIVITY_N', 'TRCODEP','TUSTARTTIM','TUSTOPTIME','TUACTDUR']\n",
    "filtered_data = data[filtered_data_columns].copy()"
   ]
  },
  {
   "cell_type": "code",
   "execution_count": 40,
   "metadata": {},
   "outputs": [
    {
     "data": {
      "text/html": [
       "<div>\n",
       "<style scoped>\n",
       "    .dataframe tbody tr th:only-of-type {\n",
       "        vertical-align: middle;\n",
       "    }\n",
       "\n",
       "    .dataframe tbody tr th {\n",
       "        vertical-align: top;\n",
       "    }\n",
       "\n",
       "    .dataframe thead th {\n",
       "        text-align: right;\n",
       "    }\n",
       "</style>\n",
       "<table border=\"1\" class=\"dataframe\">\n",
       "  <thead>\n",
       "    <tr style=\"text-align: right;\">\n",
       "      <th></th>\n",
       "      <th>TUCASEID</th>\n",
       "      <th>TUACTIVITY_N</th>\n",
       "      <th>TRCODEP</th>\n",
       "      <th>TUSTARTTIM</th>\n",
       "      <th>TUSTOPTIME</th>\n",
       "      <th>TUACTDUR</th>\n",
       "    </tr>\n",
       "  </thead>\n",
       "  <tbody>\n",
       "    <tr>\n",
       "      <th>0</th>\n",
       "      <td>20030100013280</td>\n",
       "      <td>1</td>\n",
       "      <td>130124</td>\n",
       "      <td>04:00:00</td>\n",
       "      <td>05:00:00</td>\n",
       "      <td>60</td>\n",
       "    </tr>\n",
       "    <tr>\n",
       "      <th>1</th>\n",
       "      <td>20030100013280</td>\n",
       "      <td>2</td>\n",
       "      <td>10201</td>\n",
       "      <td>05:00:00</td>\n",
       "      <td>05:30:00</td>\n",
       "      <td>30</td>\n",
       "    </tr>\n",
       "    <tr>\n",
       "      <th>2</th>\n",
       "      <td>20030100013280</td>\n",
       "      <td>3</td>\n",
       "      <td>10101</td>\n",
       "      <td>05:30:00</td>\n",
       "      <td>15:30:00</td>\n",
       "      <td>600</td>\n",
       "    </tr>\n",
       "    <tr>\n",
       "      <th>3</th>\n",
       "      <td>20030100013280</td>\n",
       "      <td>4</td>\n",
       "      <td>120303</td>\n",
       "      <td>15:30:00</td>\n",
       "      <td>18:00:00</td>\n",
       "      <td>150</td>\n",
       "    </tr>\n",
       "    <tr>\n",
       "      <th>4</th>\n",
       "      <td>20030100013280</td>\n",
       "      <td>5</td>\n",
       "      <td>110101</td>\n",
       "      <td>18:00:00</td>\n",
       "      <td>18:05:00</td>\n",
       "      <td>5</td>\n",
       "    </tr>\n",
       "  </tbody>\n",
       "</table>\n",
       "</div>"
      ],
      "text/plain": [
       "         TUCASEID  TUACTIVITY_N  TRCODEP TUSTARTTIM TUSTOPTIME  TUACTDUR\n",
       "0  20030100013280             1   130124   04:00:00   05:00:00        60\n",
       "1  20030100013280             2    10201   05:00:00   05:30:00        30\n",
       "2  20030100013280             3    10101   05:30:00   15:30:00       600\n",
       "3  20030100013280             4   120303   15:30:00   18:00:00       150\n",
       "4  20030100013280             5   110101   18:00:00   18:05:00         5"
      ]
     },
     "execution_count": 40,
     "metadata": {},
     "output_type": "execute_result"
    }
   ],
   "source": [
    "filtered_data.head()"
   ]
  },
  {
   "cell_type": "markdown",
   "metadata": {},
   "source": [
    "- Eating / Drinking - 11\n",
    "- Education / Lectures - 06\n",
    "- Coursework - 0603\n",
    "- Exercise - 13\n",
    "- Housework - 02\n",
    "- Leisure - 12\n",
    "- Reading - 120312\n",
    "- Sleep - 0101\n",
    "- Travelling - 18\n",
    "- Using Devices - 16\n",
    "- Paid Work - 05\n",
    "- Other - Fill at the end"
   ]
  },
  {
   "cell_type": "code",
   "execution_count": 41,
   "metadata": {},
   "outputs": [],
   "source": [
    "# List to hold all Activity Descriptions\n",
    "ActivityDescription_list = []\n",
    "\n",
    "# Iterating through all of the activity codes in the dataset\n",
    "for act_code in filtered_data['TRCODEP'].values:\n",
    "\n",
    "    activity_code = str(act_code)\n",
    "    \n",
    "    # Filling preceding 0 if it was removed\n",
    "    if len(activity_code) != 6:\n",
    "        activity_code = '0' + activity_code\n",
    "        \n",
    "    # Using the activity code to match it to its corresponding description\n",
    "    if activity_code[:2] == '11':\n",
    "        activity_desc = 'Eating / Drinking'\n",
    "    elif activity_code[:2] == '06':\n",
    "        activity_desc = 'Education / Lectures'\n",
    "        if activity_code[:4] == '0603':\n",
    "            activity_desc = 'Coursework'\n",
    "    elif activity_code[:2] == '13':\n",
    "        activity_desc = 'Exercise'\n",
    "    elif activity_code[:2] == '02':\n",
    "        activity_desc = 'Housework'\n",
    "    elif activity_code[:2] == '12':\n",
    "        activity_desc = 'Leisure'\n",
    "        if activity_code[:6] == '120312':\n",
    "            activity_desc = 'Reading'\n",
    "    elif activity_code[:4] == '0101':\n",
    "        activity_desc = 'Sleep'\n",
    "    elif activity_code[:2] == '18':\n",
    "        activity_desc = 'Travelling'\n",
    "    elif activity_code[:2] == '16':\n",
    "        activity_desc = 'Using Devices'\n",
    "    elif activity_code[:2] == '05':\n",
    "        activity_desc = 'Paid Work'\n",
    "    else:\n",
    "        activity_desc = 'Other'\n",
    "    \n",
    "    # Appending the description to a list\n",
    "    ActivityDescription_list.append(activity_desc)\n",
    "\n",
    "# Finally creating the column and filling it with the list of activity descriptions\n",
    "filtered_data[\"ActivityDescription\"] = np.asarray(ActivityDescription_list)"
   ]
  },
  {
   "cell_type": "code",
   "execution_count": 42,
   "metadata": {},
   "outputs": [
    {
     "data": {
      "image/png": "[encoded data removed]",
      "text/plain": [
       "<Figure size 1440x432 with 1 Axes>"
      ]
     },
     "metadata": {
      "needs_background": "light"
     },
     "output_type": "display_data"
    }
   ],
   "source": [
    "plt.figure(figsize=(20,6))\n",
    "\n",
    "# https://gist.github.com/fomightez/bb5a9c727d93d1508187677b4d74d7c1\n",
    "result = filtered_data.groupby([\"ActivityDescription\"])['TUACTDUR'].aggregate(np.mean).reset_index().sort_values('TUACTDUR', ascending = False)\n",
    "ax = sns.barplot(x='ActivityDescription', y='TUACTDUR', data=filtered_data, order=result['ActivityDescription'], alpha=0.5, palette='BuGn_r')\n",
    "\n",
    "# https://datavizpyr.com/how-to-annotate-bars-in-barplot-with-matplotlib-in-python/\n",
    "for p in ax.patches:\n",
    "    ax.annotate(format(p.get_height(), '.1f'), \n",
    "                   (p.get_x() + (1.5*p.get_width()) / 6., p.get_height()), \n",
    "                   ha = 'center', va = 'center', \n",
    "                   xytext = (0, 9), \n",
    "                   textcoords = 'offset points')\n",
    "    \n",
    "plt.xticks(rotation=-45)\n",
    "plt.xlabel('')\n",
    "plt.ylabel('Activity Duration (mins)', fontsize=14)\n",
    "plt.title('Publicly available time diary dataset \\n Duration per Activity (minutes)', fontsize=20)\n",
    "ax.spines['top'].set_visible(False)\n",
    "ax.spines['right'].set_visible(False)\n",
    "plt.show()"
   ]
  },
  {
   "cell_type": "code",
   "execution_count": null,
   "metadata": {},
   "outputs": [],
   "source": []
  }
 ],
 "metadata": {
  "kernelspec": {
   "display_name": "Python 3",
   "language": "python",
   "name": "python3"
  },
  "language_info": {
   "codemirror_mode": {
    "name": "ipython",
    "version": 3
   },
   "file_extension": ".py",
   "mimetype": "text/x-python",
   "name": "python",
   "nbconvert_exporter": "python",
   "pygments_lexer": "ipython3",
   "version": "3.8.5"
  }
 },
 "nbformat": 4,
 "nbformat_minor": 2
}
